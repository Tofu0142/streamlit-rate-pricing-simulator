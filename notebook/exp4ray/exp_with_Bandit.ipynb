{
 "cells": [
  {
   "cell_type": "code",
   "execution_count": 1,
   "metadata": {},
   "outputs": [],
   "source": [
    "import gymnasium as gym\n",
    "from gymnasium import spaces\n",
    "from gymnasium.spaces import Discrete, Box\n",
    "import numpy as np\n",
    "import scipy.stats as stats\n",
    "import random\n",
    "import time\n",
    "import ray\n",
    "from rllib_bandit.bandit.bandit import  BanditLinUCB, BanditLinUCBConfig, BanditLinTSConfig, BanditLinTS\n",
    "from CustomDictObsEnv import CustomDictObsEnv, feaures_model_coefficient"
   ]
  },
  {
   "cell_type": "code",
   "execution_count": 2,
   "metadata": {},
   "outputs": [
    {
     "name": "stderr",
     "output_type": "stream",
     "text": [
      "/opt/homebrew/Caskroom/miniforge/base/lib/python3.10/subprocess.py:1796: RuntimeWarning: os.fork() was called. os.fork() is incompatible with multithreaded code, and JAX is multithreaded, so this will likely lead to a deadlock.\n",
      "  self.pid = _posixsubprocess.fork_exec(\n",
      "/opt/homebrew/Caskroom/miniforge/base/lib/python3.10/subprocess.py:1796: RuntimeWarning: os.fork() was called. os.fork() is incompatible with multithreaded code, and JAX is multithreaded, so this will likely lead to a deadlock.\n",
      "  self.pid = _posixsubprocess.fork_exec(\n",
      "2024-03-15 16:48:02,814\tINFO worker.py:1715 -- Started a local Ray instance. View the dashboard at \u001b[1m\u001b[32m127.0.0.1:8265 \u001b[39m\u001b[22m\n"
     ]
    },
    {
     "data": {
      "application/vnd.jupyter.widget-view+json": {
       "model_id": "4b94f5a5267b4367a1b95435fed29f47",
       "version_major": 2,
       "version_minor": 0
      },
      "text/html": [
       "<div class=\"lm-Widget p-Widget lm-Panel p-Panel jp-Cell-outputWrapper\">\n",
       "    <div style=\"margin-left: 50px;display: flex;flex-direction: row;align-items: center\">\n",
       "        <div class=\"jp-RenderedHTMLCommon\" style=\"display: flex; flex-direction: row;\">\n",
       "  <svg viewBox=\"0 0 567 224\" fill=\"none\" xmlns=\"http://www.w3.org/2000/svg\" style=\"height: 3em;\">\n",
       "    <g clip-path=\"url(#clip0_4338_178347)\">\n",
       "        <path d=\"M341.29 165.561H355.29L330.13 129.051C345.63 123.991 354.21 112.051 354.21 94.2307C354.21 71.3707 338.72 58.1807 311.88 58.1807H271V165.561H283.27V131.661H311.8C314.25 131.661 316.71 131.501 319.01 131.351L341.25 165.561H341.29ZM283.29 119.851V70.0007H311.82C331.3 70.0007 342.34 78.2907 342.34 94.5507C342.34 111.271 331.34 119.861 311.82 119.861L283.29 119.851ZM451.4 138.411L463.4 165.561H476.74L428.74 58.1807H416L367.83 165.561H380.83L392.83 138.411H451.4ZM446.19 126.601H398L422 72.1407L446.24 126.601H446.19ZM526.11 128.741L566.91 58.1807H554.35L519.99 114.181L485.17 58.1807H472.44L514.01 129.181V165.541H526.13V128.741H526.11Z\" fill=\"var(--jp-ui-font-color0)\"/>\n",
       "        <path d=\"M82.35 104.44C84.0187 97.8827 87.8248 92.0678 93.1671 87.9146C98.5094 83.7614 105.083 81.5067 111.85 81.5067C118.617 81.5067 125.191 83.7614 130.533 87.9146C135.875 92.0678 139.681 97.8827 141.35 104.44H163.75C164.476 101.562 165.622 98.8057 167.15 96.2605L127.45 56.5605C121.071 60.3522 113.526 61.6823 106.235 60.3005C98.9443 58.9187 92.4094 54.9203 87.8602 49.0574C83.3109 43.1946 81.0609 35.8714 81.5332 28.4656C82.0056 21.0599 85.1679 14.0819 90.4252 8.8446C95.6824 3.60726 102.672 0.471508 110.08 0.0272655C117.487 -0.416977 124.802 1.86091 130.647 6.4324C136.493 11.0039 140.467 17.5539 141.821 24.8501C143.175 32.1463 141.816 39.6859 138 46.0505L177.69 85.7505C182.31 82.9877 187.58 81.4995 192.962 81.4375C198.345 81.3755 203.648 82.742 208.33 85.3976C213.012 88.0532 216.907 91.9029 219.616 96.5544C222.326 101.206 223.753 106.492 223.753 111.875C223.753 117.258 222.326 122.545 219.616 127.197C216.907 131.848 213.012 135.698 208.33 138.353C203.648 141.009 198.345 142.375 192.962 142.313C187.58 142.251 182.31 140.763 177.69 138L138 177.7C141.808 184.071 143.155 191.614 141.79 198.91C140.424 206.205 136.44 212.75 130.585 217.313C124.731 221.875 117.412 224.141 110.004 223.683C102.596 223.226 95.6103 220.077 90.3621 214.828C85.1139 209.58 81.9647 202.595 81.5072 195.187C81.0497 187.779 83.3154 180.459 87.878 174.605C92.4405 168.751 98.9853 164.766 106.281 163.401C113.576 162.035 121.119 163.383 127.49 167.19L167.19 127.49C165.664 124.941 164.518 122.182 163.79 119.3H141.39C139.721 125.858 135.915 131.673 130.573 135.826C125.231 139.98 118.657 142.234 111.89 142.234C105.123 142.234 98.5494 139.98 93.2071 135.826C87.8648 131.673 84.0587 125.858 82.39 119.3H60C58.1878 126.495 53.8086 132.78 47.6863 136.971C41.5641 141.163 34.1211 142.972 26.7579 142.059C19.3947 141.146 12.6191 137.574 7.70605 132.014C2.79302 126.454 0.0813599 119.29 0.0813599 111.87C0.0813599 104.451 2.79302 97.2871 7.70605 91.7272C12.6191 86.1673 19.3947 82.5947 26.7579 81.6817C34.1211 80.7686 41.5641 82.5781 47.6863 86.7696C53.8086 90.9611 58.1878 97.2456 60 104.44H82.35ZM100.86 204.32C103.407 206.868 106.759 208.453 110.345 208.806C113.93 209.159 117.527 208.258 120.522 206.256C123.517 204.254 125.725 201.276 126.771 197.828C127.816 194.38 127.633 190.677 126.253 187.349C124.874 184.021 122.383 181.274 119.205 179.577C116.027 177.88 112.359 177.337 108.826 178.042C105.293 178.746 102.113 180.654 99.8291 183.44C97.5451 186.226 96.2979 189.718 96.3 193.32C96.2985 195.364 96.7006 197.388 97.4831 199.275C98.2656 201.163 99.4132 202.877 100.86 204.32ZM204.32 122.88C206.868 120.333 208.453 116.981 208.806 113.396C209.159 109.811 208.258 106.214 206.256 103.219C204.254 100.223 201.275 98.0151 197.827 96.97C194.38 95.9249 190.676 96.1077 187.348 97.4873C184.02 98.8669 181.274 101.358 179.577 104.536C177.879 107.714 177.337 111.382 178.041 114.915C178.746 118.448 180.653 121.627 183.439 123.911C186.226 126.195 189.717 127.443 193.32 127.44C195.364 127.443 197.388 127.042 199.275 126.259C201.163 125.476 202.878 124.328 204.32 122.88ZM122.88 19.4205C120.333 16.8729 116.981 15.2876 113.395 14.9347C109.81 14.5817 106.213 15.483 103.218 17.4849C100.223 19.4868 98.0146 22.4654 96.9696 25.9131C95.9245 29.3608 96.1073 33.0642 97.4869 36.3922C98.8665 39.7202 101.358 42.4668 104.535 44.1639C107.713 45.861 111.381 46.4036 114.914 45.6992C118.447 44.9949 121.627 43.0871 123.911 40.301C126.195 37.515 127.442 34.0231 127.44 30.4205C127.44 28.3772 127.038 26.3539 126.255 24.4664C125.473 22.5788 124.326 20.8642 122.88 19.4205ZM19.42 100.86C16.8725 103.408 15.2872 106.76 14.9342 110.345C14.5813 113.93 15.4826 117.527 17.4844 120.522C19.4863 123.518 22.4649 125.726 25.9127 126.771C29.3604 127.816 33.0638 127.633 36.3918 126.254C39.7198 124.874 42.4664 122.383 44.1635 119.205C45.8606 116.027 46.4032 112.359 45.6988 108.826C44.9944 105.293 43.0866 102.114 40.3006 99.8296C37.5145 97.5455 34.0227 96.2983 30.42 96.3005C26.2938 96.3018 22.337 97.9421 19.42 100.86ZM100.86 100.86C98.3125 103.408 96.7272 106.76 96.3742 110.345C96.0213 113.93 96.9226 117.527 98.9244 120.522C100.926 123.518 103.905 125.726 107.353 126.771C110.8 127.816 114.504 127.633 117.832 126.254C121.16 124.874 123.906 122.383 125.604 119.205C127.301 116.027 127.843 112.359 127.139 108.826C126.434 105.293 124.527 102.114 121.741 99.8296C118.955 97.5455 115.463 96.2983 111.86 96.3005C109.817 96.299 107.793 96.701 105.905 97.4835C104.018 98.2661 102.303 99.4136 100.86 100.86Z\" fill=\"#00AEEF\"/>\n",
       "    </g>\n",
       "    <defs>\n",
       "        <clipPath id=\"clip0_4338_178347\">\n",
       "            <rect width=\"566.93\" height=\"223.75\" fill=\"white\"/>\n",
       "        </clipPath>\n",
       "    </defs>\n",
       "  </svg>\n",
       "</div>\n",
       "\n",
       "        <table class=\"jp-RenderedHTMLCommon\" style=\"border-collapse: collapse;color: var(--jp-ui-font-color1);font-size: var(--jp-ui-font-size1);\">\n",
       "    <tr>\n",
       "        <td style=\"text-align: left\"><b>Python version:</b></td>\n",
       "        <td style=\"text-align: left\"><b>3.10.13</b></td>\n",
       "    </tr>\n",
       "    <tr>\n",
       "        <td style=\"text-align: left\"><b>Ray version:</b></td>\n",
       "        <td style=\"text-align: left\"><b>2.9.3</b></td>\n",
       "    </tr>\n",
       "    <tr>\n",
       "    <td style=\"text-align: left\"><b>Dashboard:</b></td>\n",
       "    <td style=\"text-align: left\"><b><a href=\"http://127.0.0.1:8265\" target=\"_blank\">http://127.0.0.1:8265</a></b></td>\n",
       "</tr>\n",
       "\n",
       "</table>\n",
       "\n",
       "    </div>\n",
       "</div>\n"
      ],
      "text/plain": [
       "RayContext(dashboard_url='127.0.0.1:8265', python_version='3.10.13', ray_version='2.9.3', ray_commit='62655e11ed76509b78654b60be67bc59f8f3460a', protocol_version=None)"
      ]
     },
     "execution_count": 2,
     "metadata": {},
     "output_type": "execute_result"
    }
   ],
   "source": [
    "ray.init(ignore_reinit_error=True, num_cpus=2)"
   ]
  },
  {
   "cell_type": "code",
   "execution_count": 2,
   "metadata": {},
   "outputs": [
    {
     "data": {
      "text/html": [
       "<div>\n",
       "<style scoped>\n",
       "    .dataframe tbody tr th:only-of-type {\n",
       "        vertical-align: middle;\n",
       "    }\n",
       "\n",
       "    .dataframe tbody tr th {\n",
       "        vertical-align: top;\n",
       "    }\n",
       "\n",
       "    .dataframe thead th {\n",
       "        text-align: right;\n",
       "    }\n",
       "</style>\n",
       "<table border=\"1\" class=\"dataframe\">\n",
       "  <thead>\n",
       "    <tr style=\"text-align: right;\">\n",
       "      <th></th>\n",
       "      <th>apw</th>\n",
       "      <th>base_price</th>\n",
       "      <th>customer_type</th>\n",
       "      <th>hotel_level</th>\n",
       "      <th>night</th>\n",
       "      <th>occupancy</th>\n",
       "      <th>promotion</th>\n",
       "    </tr>\n",
       "  </thead>\n",
       "  <tbody>\n",
       "    <tr>\n",
       "      <th>0</th>\n",
       "      <td>6</td>\n",
       "      <td>186.449962</td>\n",
       "      <td>1</td>\n",
       "      <td>2</td>\n",
       "      <td>1</td>\n",
       "      <td>2</td>\n",
       "      <td>3</td>\n",
       "    </tr>\n",
       "    <tr>\n",
       "      <th>1</th>\n",
       "      <td>72</td>\n",
       "      <td>199.390025</td>\n",
       "      <td>1</td>\n",
       "      <td>5</td>\n",
       "      <td>8</td>\n",
       "      <td>5</td>\n",
       "      <td>1</td>\n",
       "    </tr>\n",
       "    <tr>\n",
       "      <th>2</th>\n",
       "      <td>26</td>\n",
       "      <td>159.450858</td>\n",
       "      <td>1</td>\n",
       "      <td>4</td>\n",
       "      <td>2</td>\n",
       "      <td>2</td>\n",
       "      <td>0</td>\n",
       "    </tr>\n",
       "    <tr>\n",
       "      <th>3</th>\n",
       "      <td>0</td>\n",
       "      <td>175.077632</td>\n",
       "      <td>0</td>\n",
       "      <td>0</td>\n",
       "      <td>7</td>\n",
       "      <td>5</td>\n",
       "      <td>3</td>\n",
       "    </tr>\n",
       "    <tr>\n",
       "      <th>4</th>\n",
       "      <td>11</td>\n",
       "      <td>172.820999</td>\n",
       "      <td>1</td>\n",
       "      <td>5</td>\n",
       "      <td>6</td>\n",
       "      <td>2</td>\n",
       "      <td>3</td>\n",
       "    </tr>\n",
       "  </tbody>\n",
       "</table>\n",
       "</div>"
      ],
      "text/plain": [
       "   apw  base_price  customer_type  hotel_level  night  occupancy  promotion\n",
       "0    6  186.449962              1            2      1          2          3\n",
       "1   72  199.390025              1            5      8          5          1\n",
       "2   26  159.450858              1            4      2          2          0\n",
       "3    0  175.077632              0            0      7          5          3\n",
       "4   11  172.820999              1            5      6          2          3"
      ]
     },
     "execution_count": 2,
     "metadata": {},
     "output_type": "execute_result"
    }
   ],
   "source": [
    "from environments.simulator_env_1 import SimulatorEnv1, LogisticModelFeature\n",
    "from utils import FEATURES\n",
    "INTERCEPT = 10\n",
    "N = 10000\n",
    "simulator_env = SimulatorEnv1(\n",
    "    discrete_action_space=True,\n",
    "    intercept=INTERCEPT,\n",
    "    features=FEATURES,\n",
    "    n_reps=N,\n",
    "    first_arm=0.1,\n",
    "    last_arm=0.9,)\n",
    "input_data = simulator_env.get_obs_dataset(100)\n",
    "input_data.head()"
   ]
  },
  {
   "cell_type": "code",
   "execution_count": 3,
   "metadata": {},
   "outputs": [],
   "source": [
    "input_data_copy = input_data.copy()"
   ]
  },
  {
   "cell_type": "code",
   "execution_count": 30,
   "metadata": {},
   "outputs": [],
   "source": [
    "\n",
    "\n",
    "class FlattenObservationWrapper(gym.ObservationWrapper):\n",
    "    def __init__(self, env):\n",
    "        super(FlattenObservationWrapper, self).__init__(env)\n",
    "        \n",
    "        # Calculate the flat observation space size\n",
    "        obs_space = env.observation_space\n",
    "        self.flat_dim = sum(np.prod(obs_space.spaces[key].shape) for key in obs_space.spaces)\n",
    "        \n",
    "        # Define the new observation space (assuming all features are float64)\n",
    "        self.observation_space = spaces.Box(low=-np.inf, high=np.inf, shape=(self.flat_dim,), dtype=np.float64)\n",
    "# [1, 2, 3, 4, 5, 6, 7, 8, 9, 10]\n",
    "    def observation(self, observation):\n",
    "        # Flatten the dictionary observation into a single vector\n",
    "        flat_obs = np.concatenate([np.array(observation[key]).flatten() for key in observation])\n",
    "        return flat_obs\n"
   ]
  },
  {
   "cell_type": "code",
   "execution_count": 31,
   "metadata": {},
   "outputs": [],
   "source": [
    "from ray.tune.registry import register_env\n",
    "def create_env(env_config):\n",
    "    # Initialize your custom environment with any necessary configuration\n",
    "    env = CustomDictObsEnv(config=env_config)\n",
    "    # Wrap the environment\n",
    "    wrapped_env = FlattenObservationWrapper(env)\n",
    "    return wrapped_env\n",
    "register_env(\"custom_flat_env\", create_env)"
   ]
  },
  {
   "cell_type": "code",
   "execution_count": 32,
   "metadata": {},
   "outputs": [
    {
     "name": "stderr",
     "output_type": "stream",
     "text": [
      "2024-03-15 16:40:57,167\tWARNING util.py:62 -- Install gputil for GPU system monitoring.\n"
     ]
    },
    {
     "name": "stdout",
     "output_type": "stream",
     "text": [
      "Iter: 0; total reward=4918.013559478864\n",
      "Iter: 1; total reward=4914.67913521538\n",
      "Iter: 2; total reward=4831.659905156153\n",
      "Iter: 3; total reward=4681.6000199026885\n",
      "Iter: 4; total reward=4596.008070735507\n"
     ]
    }
   ],
   "source": [
    "config_bandit =  BanditLinUCBConfig()\\\n",
    "         .environment(env='custom_flat_env', \n",
    "                      env_config={\n",
    "                        \"intercept\": 10.0,\n",
    "                        \"n_reps\": 100,\n",
    "                        \"fetures_model_coefficient\": feaures_model_coefficient,\n",
    "                        \"data\": input_data_copy,},\n",
    "                        disable_env_checking=True,\n",
    "         )\\\n",
    "        .rollouts(num_rollout_workers=1)\\\n",
    "        .framework(\"tf2\")\n",
    "\n",
    "\n",
    "algo_sim= config_bandit.build()\n",
    "\n",
    "for i in range(5):\n",
    "    results = algo_sim.train()\n",
    "    # print(f'Iter:{i} ; results = {results}')\n",
    "    print(f\"Iter: {i}; total reward={results['episode_reward_mean']}\")\n"
   ]
  },
  {
   "cell_type": "code",
   "execution_count": 33,
   "metadata": {},
   "outputs": [
    {
     "name": "stdout",
     "output_type": "stream",
     "text": [
      "Step 10:Observation= [ 21.         184.37962576   0.           3.           8.\n",
      "   8.           0.        ], Action=8,Fee = 0.46, Reward=75.40036323861851\n",
      "Cumulative Avg Reward=26.48002637857826\n",
      "Step 20:Observation= [ 57.         172.00528395   1.           3.           6.\n",
      "   1.           0.        ], Action=9,Fee = 0.50, Reward=0.0\n",
      "Cumulative Avg Reward=44.56156644923211\n",
      "Step 30:Observation= [  8.         157.71062937   1.           4.           6.\n",
      "   3.          10.        ], Action=8,Fee = 0.46, Reward=72.2015212273428\n",
      "Cumulative Avg Reward=45.476442666465246\n",
      "Step 40:Observation= [ 13.         186.02626149   1.           1.           3.\n",
      "   2.           1.        ], Action=5,Fee = 0.32, Reward=54.40314369362316\n",
      "Cumulative Avg Reward=47.46680651427036\n",
      "Step 50:Observation= [ 32.         164.11664237   0.           0.           2.\n",
      "   5.           1.        ], Action=9,Fee = 0.50, Reward=101.38840332075495\n",
      "Cumulative Avg Reward=47.06959735092352\n",
      "Step 60:Observation= [ 15.         187.72139564   1.           4.           8.\n",
      "   6.           4.        ], Action=8,Fee = 0.46, Reward=76.79523467250846\n",
      "Cumulative Avg Reward=48.84399693297568\n",
      "Step 70:Observation= [  5.         176.49963656   1.           3.           8.\n",
      "   3.           1.        ], Action=8,Fee = 0.46, Reward=77.93961679190883\n",
      "Cumulative Avg Reward=48.93106812674429\n",
      "Step 80:Observation= [  9.         179.30429696   0.           3.           5.\n",
      "   5.           0.        ], Action=9,Fee = 0.50, Reward=86.19954980013854\n",
      "Cumulative Avg Reward=48.92903403989938\n",
      "Step 90:Observation= [ 26.         168.68132003   1.           0.           4.\n",
      "   1.           4.        ], Action=9,Fee = 0.50, Reward=70.84481322012581\n",
      "Cumulative Avg Reward=49.292088766517026\n",
      "Iter: 0; Total Reward=4837.556750862229\n"
     ]
    }
   ],
   "source": [
    "# step by step \n",
    "env = CustomDictObsEnv(config={\n",
    "    \"intercept\": 10.0,\n",
    "    \"n_reps\": 100,\n",
    "    \"fetures_model_coefficient\": feaures_model_coefficient,\n",
    "    \"data\": input_data_copy,\n",
    "})\n",
    "wrapped_env = FlattenObservationWrapper(env)\n",
    "obs, _= wrapped_env.reset()\n",
    "for i in range(1):  # For each episode\n",
    "    done = False\n",
    "    total_reward = 0\n",
    "    steps = 0\n",
    "    wrapped_env.reset()\n",
    "    while not done:\n",
    "        # Example: Select an action using your algorithm (this is pseudo-code)\n",
    "        \n",
    "        action = algo_sim.compute_single_action(obs)\n",
    "        \n",
    "        # Take the action in the environment\n",
    "        obs, reward, done, truncated, info = wrapped_env.step(action)\n",
    "        adjust_fee = wrapped_env.actions[action]\n",
    "        total_reward += reward\n",
    "        \n",
    "        steps += 1\n",
    "        cumulative_avg_reward = total_reward / (steps )\n",
    "        #print(f\"Step {steps}:Observation= {obs}, Action={action},Fee = {adjust_fee:.2f}, Reward={reward}\")\n",
    "        if steps % 10 == 0:\n",
    "            print(f\"Step {steps}:Observation= {obs}, Action={action},Fee = {adjust_fee:.2f}, Reward={reward}\")\n",
    "            print(f\"Cumulative Avg Reward={cumulative_avg_reward}\")\n",
    "    print(f\"Iter: {i}; Total Reward={total_reward}\")"
   ]
  },
  {
   "cell_type": "code",
   "execution_count": null,
   "metadata": {},
   "outputs": [],
   "source": []
  },
  {
   "cell_type": "code",
   "execution_count": null,
   "metadata": {},
   "outputs": [],
   "source": []
  },
  {
   "cell_type": "code",
   "execution_count": null,
   "metadata": {},
   "outputs": [],
   "source": []
  },
  {
   "cell_type": "code",
   "execution_count": 178,
   "metadata": {},
   "outputs": [],
   "source": [
    "from collections import OrderedDict\n",
    "class ObservationBanditWrapper(gym.ObservationWrapper):\n",
    "\n",
    "    def __init__(self, env):\n",
    "        super().__init__(env)\n",
    "        # Define custom low and high bounds for each dimension\n",
    "        embedding_dim = len(env.observation_space.spaces)\n",
    "        self.observation_space = spaces.Dict({\n",
    "            \"item\": spaces.Box(low=0, high= np.inf,shape = ( 5, embedding_dim ), dtype=np.float64)\n",
    "        })\n",
    "        \n",
    "    \n",
    "\n",
    "    def observation(self, observation):\n",
    "        # Convert the original observation dictionary into the desired format\n",
    "        new_observation = np.concatenate([np.array(observation[key]).flatten() for key in observation])\n",
    "        # reshaped_observation = new_observation.reshape( 1, -1)\n",
    "        reshaped_observation = np.vstack([new_observation] * 5) \n",
    "        final_observation = {'item': reshaped_observation }\n",
    "        # print(\"Final observation shape from wrapper:\", final_observation['item'].shape)\n",
    "        return final_observation "
   ]
  },
  {
   "cell_type": "code",
   "execution_count": 179,
   "metadata": {},
   "outputs": [
    {
     "data": {
      "text/plain": [
       "(5, 7)"
      ]
     },
     "execution_count": 179,
     "metadata": {},
     "output_type": "execute_result"
    }
   ],
   "source": [
    "env = CustomDictObsEnv(config={\n",
    "                        \"intercept\": 10.0,\n",
    "                        \"n_reps\": 100,\n",
    "                        \"fetures_model_coefficient\": feaures_model_coefficient,\n",
    "                        \"data\": input_data_copy,}   )\n",
    "ObservationBanditWrapper(env ).observation(env.observation_space.sample())['item'].shape"
   ]
  },
  {
   "cell_type": "code",
   "execution_count": 180,
   "metadata": {},
   "outputs": [
    {
     "data": {
      "text/plain": [
       "OrderedDict([('apw', array([60.89905416])),\n",
       "             ('base_price', array([906.7442724])),\n",
       "             ('customer_type', array([1.3173731])),\n",
       "             ('hotel_level', array([5.76599628])),\n",
       "             ('night', array([39.88228962])),\n",
       "             ('occupancy', array([1.57918011])),\n",
       "             ('promotion', array([5.25433449]))])"
      ]
     },
     "execution_count": 180,
     "metadata": {},
     "output_type": "execute_result"
    }
   ],
   "source": [
    "env.observation_space.sample()"
   ]
  },
  {
   "cell_type": "code",
   "execution_count": 181,
   "metadata": {},
   "outputs": [],
   "source": [
    "from ray.tune.registry import register_env\n",
    "def create_env(env_config):\n",
    "    # Initialize your custom environment with any necessary configuration\n",
    "    env = CustomDictObsEnv(config=env_config)\n",
    "    # Wrap the environment\n",
    "    wrapped_env = ObservationBanditWrapper(env)\n",
    "    return wrapped_env\n",
    "register_env(\"custom_wrapper_env\", create_env)"
   ]
  },
  {
   "cell_type": "code",
   "execution_count": 182,
   "metadata": {},
   "outputs": [],
   "source": [
    "\n",
    "\n",
    "from ray.rllib.algorithms.callbacks import DefaultCallbacks\n",
    "from ray.tune.registry import register_env\n",
    "from ray import tune\n",
    "\n",
    "# Define your custom callback class\n",
    "class MyCustomCallbacks(DefaultCallbacks):\n",
    "    def on_episode_start(self, *, worker, base_env,\n",
    "                        episode, env_index, **kwargs):\n",
    "        # Retrieve the last observation, action, reward, etc.\n",
    "        print(f\"Worker: {worker}, Env Index: {env_index}\")\n",
    "        \n",
    "    def on_episode_step(\n",
    "        self,\n",
    "        *,\n",
    "        worker,\n",
    "        base_env,\n",
    "        policies,\n",
    "        episode,\n",
    "        env_index,\n",
    "        **kwargs,\n",
    "    ):\n",
    "        assert episode.length > 0, (\n",
    "            \"ERROR: `on_episode_step()` callback should not be called right \"\n",
    "            \"after env reset!\"\n",
    "        )\n",
    "        info = episode.last_info_for(env_index)\n",
    "        print(f'show info: {info}')\n",
    "        if info is not None:  # Make sure info is not None\n",
    "            action = info.get('action')\n",
    "            reward = info.get('reward')\n",
    "            # Since observation is not directly available, it's trickier to log it here.\n",
    "            # You might need to adjust your environment's 'info' to include the observation\n",
    "            # or find another way to track it.\n",
    "            print(f\"Action: {action}, Reward: {reward}\")\n",
    "\n",
    "# Make sure"
   ]
  },
  {
   "cell_type": "code",
   "execution_count": 183,
   "metadata": {},
   "outputs": [
    {
     "data": {
      "text/html": [
       "<div class=\"tuneStatus\">\n",
       "  <div style=\"display: flex;flex-direction: row\">\n",
       "    <div style=\"display: flex;flex-direction: column;\">\n",
       "      <h3>Tune Status</h3>\n",
       "      <table>\n",
       "<tbody>\n",
       "<tr><td>Current time:</td><td>2024-03-19 20:01:08</td></tr>\n",
       "<tr><td>Running for: </td><td>00:00:05.20        </td></tr>\n",
       "<tr><td>Memory:      </td><td>11.8/16.0 GiB      </td></tr>\n",
       "</tbody>\n",
       "</table>\n",
       "    </div>\n",
       "    <div class=\"vDivider\"></div>\n",
       "    <div class=\"systemInfo\">\n",
       "      <h3>System Info</h3>\n",
       "      Using FIFO scheduling algorithm.<br>Logical resource usage: 1.0/8 CPUs, 0/0 GPUs\n",
       "    </div>\n",
       "    \n",
       "  </div>\n",
       "  <div class=\"hDivider\"></div>\n",
       "  <div class=\"trialStatus\">\n",
       "    <h3>Trial Status</h3>\n",
       "    <table>\n",
       "<thead>\n",
       "<tr><th>Trial name                                 </th><th>status  </th><th>loc  </th></tr>\n",
       "</thead>\n",
       "<tbody>\n",
       "<tr><td>BanditLinUCB_custom_wrapper_env_69f41_00000</td><td>PENDING </td><td>     </td></tr>\n",
       "</tbody>\n",
       "</table>\n",
       "  </div>\n",
       "</div>\n",
       "<style>\n",
       ".tuneStatus {\n",
       "  color: var(--jp-ui-font-color1);\n",
       "}\n",
       ".tuneStatus .systemInfo {\n",
       "  display: flex;\n",
       "  flex-direction: column;\n",
       "}\n",
       ".tuneStatus td {\n",
       "  white-space: nowrap;\n",
       "}\n",
       ".tuneStatus .trialStatus {\n",
       "  display: flex;\n",
       "  flex-direction: column;\n",
       "}\n",
       ".tuneStatus h3 {\n",
       "  font-weight: bold;\n",
       "}\n",
       ".tuneStatus .hDivider {\n",
       "  border-bottom-width: var(--jp-border-width);\n",
       "  border-bottom-color: var(--jp-border-color0);\n",
       "  border-bottom-style: solid;\n",
       "}\n",
       ".tuneStatus .vDivider {\n",
       "  border-left-width: var(--jp-border-width);\n",
       "  border-left-color: var(--jp-border-color0);\n",
       "  border-left-style: solid;\n",
       "  margin: 0.5em 1em 0.5em 1em;\n",
       "}\n",
       "</style>\n"
      ],
      "text/plain": [
       "<IPython.core.display.HTML object>"
      ]
     },
     "metadata": {},
     "output_type": "display_data"
    },
    {
     "name": "stderr",
     "output_type": "stream",
     "text": [
      "/Users/xizhang/.pyenv/versions/streamlit-my-app/envs/3.11.4/lib/python3.10/site-packages/ray/tune/execution/tune_controller.py:190: UserWarning: fail_fast='raise' detected. Be careful when using this mode as resources (such as Ray processes, file descriptors, and temporary files) may not be cleaned up properly. To use a safer mode, use fail_fast=True.\n",
      "  warnings.warn(\n"
     ]
    },
    {
     "ename": "RayActorError",
     "evalue": "The actor died because of an error raised in its creation task, \u001b[36mray::BanditLinUCB.__init__()\u001b[39m (pid=81941, ip=127.0.0.1, actor_id=5f498932a0d93edabc308b6a01000000, repr=BanditLinUCB)\n  File \"/Users/xizhang/.pyenv/versions/streamlit-my-app/envs/3.11.4/lib/python3.10/site-packages/ray/rllib/algorithms/algorithm.py\", line 516, in __init__\n    super().__init__(\n  File \"/Users/xizhang/.pyenv/versions/streamlit-my-app/envs/3.11.4/lib/python3.10/site-packages/ray/tune/trainable/trainable.py\", line 161, in __init__\n    self.setup(copy.deepcopy(self.config))\n  File \"/Users/xizhang/.pyenv/versions/streamlit-my-app/envs/3.11.4/lib/python3.10/site-packages/ray/rllib/algorithms/algorithm.py\", line 638, in setup\n    self.workers = WorkerSet(\n  File \"/Users/xizhang/.pyenv/versions/streamlit-my-app/envs/3.11.4/lib/python3.10/site-packages/ray/rllib/evaluation/worker_set.py\", line 159, in __init__\n    self._setup(\n  File \"/Users/xizhang/.pyenv/versions/streamlit-my-app/envs/3.11.4/lib/python3.10/site-packages/ray/rllib/evaluation/worker_set.py\", line 249, in _setup\n    self._local_worker = self._make_worker(\n  File \"/Users/xizhang/.pyenv/versions/streamlit-my-app/envs/3.11.4/lib/python3.10/site-packages/ray/rllib/evaluation/worker_set.py\", line 950, in _make_worker\n    worker = cls(\n  File \"/Users/xizhang/.pyenv/versions/streamlit-my-app/envs/3.11.4/lib/python3.10/site-packages/ray/rllib/evaluation/rollout_worker.py\", line 535, in __init__\n    self._update_policy_map(policy_dict=self.policy_dict)\n  File \"/Users/xizhang/.pyenv/versions/streamlit-my-app/envs/3.11.4/lib/python3.10/site-packages/ray/rllib/evaluation/rollout_worker.py\", line 1746, in _update_policy_map\n    self._build_policy_map(\n  File \"/Users/xizhang/.pyenv/versions/streamlit-my-app/envs/3.11.4/lib/python3.10/site-packages/ray/rllib/evaluation/rollout_worker.py\", line 1857, in _build_policy_map\n    new_policy = create_policy_for_framework(\n  File \"/Users/xizhang/.pyenv/versions/streamlit-my-app/envs/3.11.4/lib/python3.10/site-packages/ray/rllib/utils/policy.py\", line 138, in create_policy_for_framework\n    return policy_class(observation_space, action_space, merged_config)\n  File \"/Users/xizhang/.pyenv/versions/streamlit-my-app/envs/3.11.4/lib/python3.10/site-packages/ray/rllib/policy/eager_tf_policy.py\", line 167, in __init__\n    super(TracedEagerPolicy, self).__init__(*args, **kwargs)\n  File \"/Users/xizhang/.pyenv/versions/streamlit-my-app/envs/3.11.4/lib/python3.10/site-packages/ray/rllib/policy/eager_tf_policy.py\", line 409, in __init__\n    validate_spaces(self, observation_space, action_space, config)\n  File \"/Users/xizhang/dev/ray/rllib_contrib/bandit/src/rllib_bandit/bandit/bandit_tf_policy.py\", line 103, in validate_spaces\n    raise UnsupportedSpaceException(msg)\nray.rllib.utils.error.UnsupportedSpaceException: Action space (MultiDiscrete([10 10 10])) of BanditTFPolicy_eager_traced is not supported for Bandit algorithms. Must be `Discrete`. Try to wrap your environment with the `ray.rllib.env.wrappers.recsim::MultiDiscreteToDiscreteActionWrapper` class: `tune.register_env([some str], lambda ctx: MultiDiscreteToDiscreteActionWrapper([your gym env])); config = {'env': [some str]}`",
     "output_type": "error",
     "traceback": [
      "\u001b[0;31m---------------------------------------------------------------------------\u001b[0m",
      "\u001b[0;31mRayActorError\u001b[0m                             Traceback (most recent call last)",
      "Cell \u001b[0;32mIn[183], line 31\u001b[0m\n\u001b[1;32m     18\u001b[0m stop_reward \u001b[38;5;241m=\u001b[39m \u001b[38;5;241m180\u001b[39m\n\u001b[1;32m     20\u001b[0m tuner \u001b[38;5;241m=\u001b[39m tune\u001b[38;5;241m.\u001b[39mTuner(\n\u001b[1;32m     21\u001b[0m     BanditLinUCB,\n\u001b[1;32m     22\u001b[0m     param_space\u001b[38;5;241m=\u001b[39mconfig\u001b[38;5;241m.\u001b[39mto_dict(),\n\u001b[0;32m   (...)\u001b[0m\n\u001b[1;32m     29\u001b[0m     ),\n\u001b[1;32m     30\u001b[0m )\n\u001b[0;32m---> 31\u001b[0m results \u001b[38;5;241m=\u001b[39m \u001b[43mtuner\u001b[49m\u001b[38;5;241;43m.\u001b[39;49m\u001b[43mfit\u001b[49m\u001b[43m(\u001b[49m\u001b[43m)\u001b[49m\n",
      "File \u001b[0;32m~/.pyenv/versions/streamlit-my-app/envs/3.11.4/lib/python3.10/site-packages/ray/tune/tuner.py:381\u001b[0m, in \u001b[0;36mTuner.fit\u001b[0;34m(self)\u001b[0m\n\u001b[1;32m    379\u001b[0m \u001b[38;5;28;01mif\u001b[39;00m \u001b[38;5;129;01mnot\u001b[39;00m \u001b[38;5;28mself\u001b[39m\u001b[38;5;241m.\u001b[39m_is_ray_client:\n\u001b[1;32m    380\u001b[0m     \u001b[38;5;28;01mtry\u001b[39;00m:\n\u001b[0;32m--> 381\u001b[0m         \u001b[38;5;28;01mreturn\u001b[39;00m \u001b[38;5;28;43mself\u001b[39;49m\u001b[38;5;241;43m.\u001b[39;49m\u001b[43m_local_tuner\u001b[49m\u001b[38;5;241;43m.\u001b[39;49m\u001b[43mfit\u001b[49m\u001b[43m(\u001b[49m\u001b[43m)\u001b[49m\n\u001b[1;32m    382\u001b[0m     \u001b[38;5;28;01mexcept\u001b[39;00m TuneError \u001b[38;5;28;01mas\u001b[39;00m e:\n\u001b[1;32m    383\u001b[0m         \u001b[38;5;28;01mraise\u001b[39;00m TuneError(\n\u001b[1;32m    384\u001b[0m             _TUNER_FAILED_MSG\u001b[38;5;241m.\u001b[39mformat(\n\u001b[1;32m    385\u001b[0m                 path\u001b[38;5;241m=\u001b[39m\u001b[38;5;28mself\u001b[39m\u001b[38;5;241m.\u001b[39m_local_tuner\u001b[38;5;241m.\u001b[39mget_experiment_checkpoint_dir()\n\u001b[1;32m    386\u001b[0m             )\n\u001b[1;32m    387\u001b[0m         ) \u001b[38;5;28;01mfrom\u001b[39;00m \u001b[38;5;21;01me\u001b[39;00m\n",
      "File \u001b[0;32m~/.pyenv/versions/streamlit-my-app/envs/3.11.4/lib/python3.10/site-packages/ray/tune/impl/tuner_internal.py:509\u001b[0m, in \u001b[0;36mTunerInternal.fit\u001b[0;34m(self)\u001b[0m\n\u001b[1;32m    507\u001b[0m param_space \u001b[38;5;241m=\u001b[39m copy\u001b[38;5;241m.\u001b[39mdeepcopy(\u001b[38;5;28mself\u001b[39m\u001b[38;5;241m.\u001b[39mparam_space)\n\u001b[1;32m    508\u001b[0m \u001b[38;5;28;01mif\u001b[39;00m \u001b[38;5;129;01mnot\u001b[39;00m \u001b[38;5;28mself\u001b[39m\u001b[38;5;241m.\u001b[39m_is_restored:\n\u001b[0;32m--> 509\u001b[0m     analysis \u001b[38;5;241m=\u001b[39m \u001b[38;5;28;43mself\u001b[39;49m\u001b[38;5;241;43m.\u001b[39;49m\u001b[43m_fit_internal\u001b[49m\u001b[43m(\u001b[49m\u001b[43mtrainable\u001b[49m\u001b[43m,\u001b[49m\u001b[43m \u001b[49m\u001b[43mparam_space\u001b[49m\u001b[43m)\u001b[49m\n\u001b[1;32m    510\u001b[0m \u001b[38;5;28;01melse\u001b[39;00m:\n\u001b[1;32m    511\u001b[0m     analysis \u001b[38;5;241m=\u001b[39m \u001b[38;5;28mself\u001b[39m\u001b[38;5;241m.\u001b[39m_fit_resume(trainable, param_space)\n",
      "File \u001b[0;32m~/.pyenv/versions/streamlit-my-app/envs/3.11.4/lib/python3.10/site-packages/ray/tune/impl/tuner_internal.py:628\u001b[0m, in \u001b[0;36mTunerInternal._fit_internal\u001b[0;34m(self, trainable, param_space)\u001b[0m\n\u001b[1;32m    615\u001b[0m \u001b[38;5;250m\u001b[39m\u001b[38;5;124;03m\"\"\"Fitting for a fresh Tuner.\"\"\"\u001b[39;00m\n\u001b[1;32m    616\u001b[0m args \u001b[38;5;241m=\u001b[39m {\n\u001b[1;32m    617\u001b[0m     \u001b[38;5;241m*\u001b[39m\u001b[38;5;241m*\u001b[39m\u001b[38;5;28mself\u001b[39m\u001b[38;5;241m.\u001b[39m_get_tune_run_arguments(trainable),\n\u001b[1;32m    618\u001b[0m     \u001b[38;5;241m*\u001b[39m\u001b[38;5;241m*\u001b[39m\u001b[38;5;28mdict\u001b[39m(\n\u001b[0;32m   (...)\u001b[0m\n\u001b[1;32m    626\u001b[0m     \u001b[38;5;241m*\u001b[39m\u001b[38;5;241m*\u001b[39m\u001b[38;5;28mself\u001b[39m\u001b[38;5;241m.\u001b[39m_tuner_kwargs,\n\u001b[1;32m    627\u001b[0m }\n\u001b[0;32m--> 628\u001b[0m analysis \u001b[38;5;241m=\u001b[39m \u001b[43mrun\u001b[49m\u001b[43m(\u001b[49m\n\u001b[1;32m    629\u001b[0m \u001b[43m    \u001b[49m\u001b[38;5;241;43m*\u001b[39;49m\u001b[38;5;241;43m*\u001b[39;49m\u001b[43margs\u001b[49m\u001b[43m,\u001b[49m\n\u001b[1;32m    630\u001b[0m \u001b[43m\u001b[49m\u001b[43m)\u001b[49m\n\u001b[1;32m    631\u001b[0m \u001b[38;5;28mself\u001b[39m\u001b[38;5;241m.\u001b[39mclear_remote_string_queue()\n\u001b[1;32m    632\u001b[0m \u001b[38;5;28;01mreturn\u001b[39;00m analysis\n",
      "File \u001b[0;32m~/.pyenv/versions/streamlit-my-app/envs/3.11.4/lib/python3.10/site-packages/ray/tune/tune.py:1002\u001b[0m, in \u001b[0;36mrun\u001b[0;34m(run_or_experiment, name, metric, mode, stop, time_budget_s, config, resources_per_trial, num_samples, storage_path, storage_filesystem, search_alg, scheduler, checkpoint_config, verbose, progress_reporter, log_to_file, trial_name_creator, trial_dirname_creator, sync_config, export_formats, max_failures, fail_fast, restore, resume, reuse_actors, raise_on_failed_trial, callbacks, max_concurrent_trials, keep_checkpoints_num, checkpoint_score_attr, checkpoint_freq, checkpoint_at_end, chdir_to_trial_dir, local_dir, _remote, _remote_string_queue, _entrypoint)\u001b[0m\n\u001b[1;32m   1000\u001b[0m \u001b[38;5;28;01mtry\u001b[39;00m:\n\u001b[1;32m   1001\u001b[0m     \u001b[38;5;28;01mwhile\u001b[39;00m \u001b[38;5;129;01mnot\u001b[39;00m runner\u001b[38;5;241m.\u001b[39mis_finished() \u001b[38;5;129;01mand\u001b[39;00m \u001b[38;5;129;01mnot\u001b[39;00m experiment_interrupted_event\u001b[38;5;241m.\u001b[39mis_set():\n\u001b[0;32m-> 1002\u001b[0m         \u001b[43mrunner\u001b[49m\u001b[38;5;241;43m.\u001b[39;49m\u001b[43mstep\u001b[49m\u001b[43m(\u001b[49m\u001b[43m)\u001b[49m\n\u001b[1;32m   1003\u001b[0m         \u001b[38;5;28;01mif\u001b[39;00m has_verbosity(Verbosity\u001b[38;5;241m.\u001b[39mV1_EXPERIMENT):\n\u001b[1;32m   1004\u001b[0m             _report_progress(runner, progress_reporter)\n",
      "File \u001b[0;32m~/.pyenv/versions/streamlit-my-app/envs/3.11.4/lib/python3.10/site-packages/ray/tune/execution/tune_controller.py:728\u001b[0m, in \u001b[0;36mTuneController.step\u001b[0;34m(self)\u001b[0m\n\u001b[1;32m    725\u001b[0m \u001b[38;5;28mself\u001b[39m\u001b[38;5;241m.\u001b[39m_maybe_add_actors()\n\u001b[1;32m    727\u001b[0m \u001b[38;5;66;03m# Handle one event\u001b[39;00m\n\u001b[0;32m--> 728\u001b[0m \u001b[38;5;28;01mif\u001b[39;00m \u001b[38;5;129;01mnot\u001b[39;00m \u001b[38;5;28;43mself\u001b[39;49m\u001b[38;5;241;43m.\u001b[39;49m\u001b[43m_actor_manager\u001b[49m\u001b[38;5;241;43m.\u001b[39;49m\u001b[43mnext\u001b[49m\u001b[43m(\u001b[49m\u001b[43mtimeout\u001b[49m\u001b[38;5;241;43m=\u001b[39;49m\u001b[38;5;241;43m0.1\u001b[39;49m\u001b[43m)\u001b[49m:\n\u001b[1;32m    729\u001b[0m     \u001b[38;5;66;03m# If there are no actors running, warn about potentially\u001b[39;00m\n\u001b[1;32m    730\u001b[0m     \u001b[38;5;66;03m# insufficient resources\u001b[39;00m\n\u001b[1;32m    731\u001b[0m     \u001b[38;5;28;01mif\u001b[39;00m \u001b[38;5;129;01mnot\u001b[39;00m \u001b[38;5;28mself\u001b[39m\u001b[38;5;241m.\u001b[39m_actor_manager\u001b[38;5;241m.\u001b[39mnum_live_actors:\n\u001b[1;32m    732\u001b[0m         \u001b[38;5;28mself\u001b[39m\u001b[38;5;241m.\u001b[39m_insufficient_resources_manager\u001b[38;5;241m.\u001b[39mon_no_available_trials(\n\u001b[1;32m    733\u001b[0m             \u001b[38;5;28mself\u001b[39m\u001b[38;5;241m.\u001b[39mget_trials()\n\u001b[1;32m    734\u001b[0m         )\n",
      "File \u001b[0;32m~/.pyenv/versions/streamlit-my-app/envs/3.11.4/lib/python3.10/site-packages/ray/air/execution/_internal/actor_manager.py:222\u001b[0m, in \u001b[0;36mRayActorManager.next\u001b[0;34m(self, timeout)\u001b[0m\n\u001b[1;32m    219\u001b[0m [future] \u001b[38;5;241m=\u001b[39m ready\n\u001b[1;32m    221\u001b[0m \u001b[38;5;28;01mif\u001b[39;00m future \u001b[38;5;129;01min\u001b[39;00m actor_state_futures:\n\u001b[0;32m--> 222\u001b[0m     \u001b[38;5;28;43mself\u001b[39;49m\u001b[38;5;241;43m.\u001b[39;49m\u001b[43m_actor_state_events\u001b[49m\u001b[38;5;241;43m.\u001b[39;49m\u001b[43mresolve_future\u001b[49m\u001b[43m(\u001b[49m\u001b[43mfuture\u001b[49m\u001b[43m)\u001b[49m\n\u001b[1;32m    223\u001b[0m \u001b[38;5;28;01melif\u001b[39;00m future \u001b[38;5;129;01min\u001b[39;00m actor_task_futures:\n\u001b[1;32m    224\u001b[0m     \u001b[38;5;28mself\u001b[39m\u001b[38;5;241m.\u001b[39m_actor_task_events\u001b[38;5;241m.\u001b[39mresolve_future(future)\n",
      "File \u001b[0;32m~/.pyenv/versions/streamlit-my-app/envs/3.11.4/lib/python3.10/site-packages/ray/air/execution/_internal/event_manager.py:113\u001b[0m, in \u001b[0;36mRayEventManager.resolve_future\u001b[0;34m(self, future)\u001b[0m\n\u001b[1;32m    111\u001b[0m \u001b[38;5;28;01mexcept\u001b[39;00m \u001b[38;5;167;01mException\u001b[39;00m \u001b[38;5;28;01mas\u001b[39;00m e:\n\u001b[1;32m    112\u001b[0m     \u001b[38;5;28;01mif\u001b[39;00m on_error:\n\u001b[0;32m--> 113\u001b[0m         \u001b[43mon_error\u001b[49m\u001b[43m(\u001b[49m\u001b[43me\u001b[49m\u001b[43m)\u001b[49m\n\u001b[1;32m    114\u001b[0m     \u001b[38;5;28;01melse\u001b[39;00m:\n\u001b[1;32m    115\u001b[0m         \u001b[38;5;28;01mraise\u001b[39;00m e\n",
      "File \u001b[0;32m~/.pyenv/versions/streamlit-my-app/envs/3.11.4/lib/python3.10/site-packages/ray/air/execution/_internal/actor_manager.py:386\u001b[0m, in \u001b[0;36mRayActorManager._try_start_actors.<locals>.create_callbacks.<locals>.on_error\u001b[0;34m(exception)\u001b[0m\n\u001b[1;32m    385\u001b[0m \u001b[38;5;28;01mdef\u001b[39;00m \u001b[38;5;21mon_error\u001b[39m(exception: \u001b[38;5;167;01mException\u001b[39;00m):\n\u001b[0;32m--> 386\u001b[0m     \u001b[38;5;28;43mself\u001b[39;49m\u001b[38;5;241;43m.\u001b[39;49m\u001b[43m_actor_start_failed\u001b[49m\u001b[43m(\u001b[49m\n\u001b[1;32m    387\u001b[0m \u001b[43m        \u001b[49m\u001b[43mtracked_actor\u001b[49m\u001b[38;5;241;43m=\u001b[39;49m\u001b[43mtracked_actor\u001b[49m\u001b[43m,\u001b[49m\u001b[43m \u001b[49m\u001b[43mexception\u001b[49m\u001b[38;5;241;43m=\u001b[39;49m\u001b[43mexception\u001b[49m\n\u001b[1;32m    388\u001b[0m \u001b[43m    \u001b[49m\u001b[43m)\u001b[49m\n",
      "File \u001b[0;32m~/.pyenv/versions/streamlit-my-app/envs/3.11.4/lib/python3.10/site-packages/ray/air/execution/_internal/actor_manager.py:259\u001b[0m, in \u001b[0;36mRayActorManager._actor_start_failed\u001b[0;34m(self, tracked_actor, exception)\u001b[0m\n\u001b[1;32m    256\u001b[0m \u001b[38;5;28mself\u001b[39m\u001b[38;5;241m.\u001b[39m_cleanup_actor(tracked_actor\u001b[38;5;241m=\u001b[39mtracked_actor)\n\u001b[1;32m    258\u001b[0m \u001b[38;5;28;01mif\u001b[39;00m tracked_actor\u001b[38;5;241m.\u001b[39m_on_error:\n\u001b[0;32m--> 259\u001b[0m     \u001b[43mtracked_actor\u001b[49m\u001b[38;5;241;43m.\u001b[39;49m\u001b[43m_on_error\u001b[49m\u001b[43m(\u001b[49m\u001b[43mtracked_actor\u001b[49m\u001b[43m,\u001b[49m\u001b[43m \u001b[49m\u001b[43mexception\u001b[49m\u001b[43m)\u001b[49m\n",
      "File \u001b[0;32m~/.pyenv/versions/streamlit-my-app/envs/3.11.4/lib/python3.10/site-packages/ray/tune/execution/tune_controller.py:1215\u001b[0m, in \u001b[0;36mTuneController._actor_failed\u001b[0;34m(self, tracked_actor, exception)\u001b[0m\n\u001b[1;32m   1209\u001b[0m     logger\u001b[38;5;241m.\u001b[39mdebug(\n\u001b[1;32m   1210\u001b[0m         \u001b[38;5;124mf\u001b[39m\u001b[38;5;124m\"\u001b[39m\u001b[38;5;124mTrial \u001b[39m\u001b[38;5;132;01m{\u001b[39;00mtrial\u001b[38;5;132;01m}\u001b[39;00m\u001b[38;5;124m failed in its creation task. Unstaging \u001b[39m\u001b[38;5;124m\"\u001b[39m\n\u001b[1;32m   1211\u001b[0m         \u001b[38;5;124mf\u001b[39m\u001b[38;5;124m\"\u001b[39m\u001b[38;5;124mto allow it to be re-scheduled.\u001b[39m\u001b[38;5;124m\"\u001b[39m\n\u001b[1;32m   1212\u001b[0m     )\n\u001b[1;32m   1214\u001b[0m     \u001b[38;5;28mself\u001b[39m\u001b[38;5;241m.\u001b[39m_unstage_trial_with_resources(trial)\n\u001b[0;32m-> 1215\u001b[0m     \u001b[38;5;28;43mself\u001b[39;49m\u001b[38;5;241;43m.\u001b[39;49m\u001b[43m_trial_task_failure\u001b[49m\u001b[43m(\u001b[49m\u001b[43mtrial\u001b[49m\u001b[43m,\u001b[49m\u001b[43m \u001b[49m\u001b[43mexception\u001b[49m\u001b[38;5;241;43m=\u001b[39;49m\u001b[43mexception\u001b[49m\u001b[43m)\u001b[49m\n\u001b[1;32m   1217\u001b[0m \u001b[38;5;28mself\u001b[39m\u001b[38;5;241m.\u001b[39m_actor_manager\u001b[38;5;241m.\u001b[39mclear_actor_task_futures(tracked_actor)\n\u001b[1;32m   1219\u001b[0m \u001b[38;5;66;03m# Clean up actor\u001b[39;00m\n",
      "File \u001b[0;32m~/.pyenv/versions/streamlit-my-app/envs/3.11.4/lib/python3.10/site-packages/ray/tune/execution/tune_controller.py:1371\u001b[0m, in \u001b[0;36mTuneController._trial_task_failure\u001b[0;34m(self, trial, exception)\u001b[0m\n\u001b[1;32m   1369\u001b[0m \u001b[38;5;28;01mdef\u001b[39;00m \u001b[38;5;21m_trial_task_failure\u001b[39m(\u001b[38;5;28mself\u001b[39m, trial: Trial, exception: \u001b[38;5;167;01mException\u001b[39;00m):\n\u001b[1;32m   1370\u001b[0m     \u001b[38;5;28;01mif\u001b[39;00m \u001b[38;5;28mself\u001b[39m\u001b[38;5;241m.\u001b[39m_fail_fast \u001b[38;5;241m==\u001b[39m \u001b[38;5;28mself\u001b[39m\u001b[38;5;241m.\u001b[39mRAISE:\n\u001b[0;32m-> 1371\u001b[0m         \u001b[38;5;28;01mraise\u001b[39;00m exception\n\u001b[1;32m   1372\u001b[0m     \u001b[38;5;28;01melse\u001b[39;00m:\n\u001b[1;32m   1373\u001b[0m         \u001b[38;5;28;01mif\u001b[39;00m \u001b[38;5;28mself\u001b[39m\u001b[38;5;241m.\u001b[39m_print_trial_errors:\n",
      "File \u001b[0;32m~/.pyenv/versions/streamlit-my-app/envs/3.11.4/lib/python3.10/site-packages/ray/air/execution/_internal/event_manager.py:110\u001b[0m, in \u001b[0;36mRayEventManager.resolve_future\u001b[0;34m(self, future)\u001b[0m\n\u001b[1;32m    105\u001b[0m     \u001b[38;5;28;01mraise\u001b[39;00m \u001b[38;5;167;01mValueError\u001b[39;00m(\n\u001b[1;32m    106\u001b[0m         \u001b[38;5;124mf\u001b[39m\u001b[38;5;124m\"\u001b[39m\u001b[38;5;124mFuture \u001b[39m\u001b[38;5;132;01m{\u001b[39;00mfuture\u001b[38;5;132;01m}\u001b[39;00m\u001b[38;5;124m is not tracked by this RayEventManager\u001b[39m\u001b[38;5;124m\"\u001b[39m\n\u001b[1;32m    107\u001b[0m     ) \u001b[38;5;28;01mfrom\u001b[39;00m \u001b[38;5;21;01me\u001b[39;00m\n\u001b[1;32m    109\u001b[0m \u001b[38;5;28;01mtry\u001b[39;00m:\n\u001b[0;32m--> 110\u001b[0m     result \u001b[38;5;241m=\u001b[39m \u001b[43mray\u001b[49m\u001b[38;5;241;43m.\u001b[39;49m\u001b[43mget\u001b[49m\u001b[43m(\u001b[49m\u001b[43mfuture\u001b[49m\u001b[43m)\u001b[49m\n\u001b[1;32m    111\u001b[0m \u001b[38;5;28;01mexcept\u001b[39;00m \u001b[38;5;167;01mException\u001b[39;00m \u001b[38;5;28;01mas\u001b[39;00m e:\n\u001b[1;32m    112\u001b[0m     \u001b[38;5;28;01mif\u001b[39;00m on_error:\n",
      "File \u001b[0;32m~/.pyenv/versions/streamlit-my-app/envs/3.11.4/lib/python3.10/site-packages/ray/_private/auto_init_hook.py:22\u001b[0m, in \u001b[0;36mwrap_auto_init.<locals>.auto_init_wrapper\u001b[0;34m(*args, **kwargs)\u001b[0m\n\u001b[1;32m     19\u001b[0m \u001b[38;5;129m@wraps\u001b[39m(fn)\n\u001b[1;32m     20\u001b[0m \u001b[38;5;28;01mdef\u001b[39;00m \u001b[38;5;21mauto_init_wrapper\u001b[39m(\u001b[38;5;241m*\u001b[39margs, \u001b[38;5;241m*\u001b[39m\u001b[38;5;241m*\u001b[39mkwargs):\n\u001b[1;32m     21\u001b[0m     auto_init_ray()\n\u001b[0;32m---> 22\u001b[0m     \u001b[38;5;28;01mreturn\u001b[39;00m \u001b[43mfn\u001b[49m\u001b[43m(\u001b[49m\u001b[38;5;241;43m*\u001b[39;49m\u001b[43margs\u001b[49m\u001b[43m,\u001b[49m\u001b[43m \u001b[49m\u001b[38;5;241;43m*\u001b[39;49m\u001b[38;5;241;43m*\u001b[39;49m\u001b[43mkwargs\u001b[49m\u001b[43m)\u001b[49m\n",
      "File \u001b[0;32m~/.pyenv/versions/streamlit-my-app/envs/3.11.4/lib/python3.10/site-packages/ray/_private/client_mode_hook.py:103\u001b[0m, in \u001b[0;36mclient_mode_hook.<locals>.wrapper\u001b[0;34m(*args, **kwargs)\u001b[0m\n\u001b[1;32m    101\u001b[0m     \u001b[38;5;28;01mif\u001b[39;00m func\u001b[38;5;241m.\u001b[39m\u001b[38;5;18m__name__\u001b[39m \u001b[38;5;241m!=\u001b[39m \u001b[38;5;124m\"\u001b[39m\u001b[38;5;124minit\u001b[39m\u001b[38;5;124m\"\u001b[39m \u001b[38;5;129;01mor\u001b[39;00m is_client_mode_enabled_by_default:\n\u001b[1;32m    102\u001b[0m         \u001b[38;5;28;01mreturn\u001b[39;00m \u001b[38;5;28mgetattr\u001b[39m(ray, func\u001b[38;5;241m.\u001b[39m\u001b[38;5;18m__name__\u001b[39m)(\u001b[38;5;241m*\u001b[39margs, \u001b[38;5;241m*\u001b[39m\u001b[38;5;241m*\u001b[39mkwargs)\n\u001b[0;32m--> 103\u001b[0m \u001b[38;5;28;01mreturn\u001b[39;00m \u001b[43mfunc\u001b[49m\u001b[43m(\u001b[49m\u001b[38;5;241;43m*\u001b[39;49m\u001b[43margs\u001b[49m\u001b[43m,\u001b[49m\u001b[43m \u001b[49m\u001b[38;5;241;43m*\u001b[39;49m\u001b[38;5;241;43m*\u001b[39;49m\u001b[43mkwargs\u001b[49m\u001b[43m)\u001b[49m\n",
      "File \u001b[0;32m~/.pyenv/versions/streamlit-my-app/envs/3.11.4/lib/python3.10/site-packages/ray/_private/worker.py:2626\u001b[0m, in \u001b[0;36mget\u001b[0;34m(object_refs, timeout)\u001b[0m\n\u001b[1;32m   2624\u001b[0m             \u001b[38;5;28;01mraise\u001b[39;00m value\u001b[38;5;241m.\u001b[39mas_instanceof_cause()\n\u001b[1;32m   2625\u001b[0m         \u001b[38;5;28;01melse\u001b[39;00m:\n\u001b[0;32m-> 2626\u001b[0m             \u001b[38;5;28;01mraise\u001b[39;00m value\n\u001b[1;32m   2628\u001b[0m \u001b[38;5;28;01mif\u001b[39;00m is_individual_id:\n\u001b[1;32m   2629\u001b[0m     values \u001b[38;5;241m=\u001b[39m values[\u001b[38;5;241m0\u001b[39m]\n",
      "\u001b[0;31mRayActorError\u001b[0m: The actor died because of an error raised in its creation task, \u001b[36mray::BanditLinUCB.__init__()\u001b[39m (pid=81941, ip=127.0.0.1, actor_id=5f498932a0d93edabc308b6a01000000, repr=BanditLinUCB)\n  File \"/Users/xizhang/.pyenv/versions/streamlit-my-app/envs/3.11.4/lib/python3.10/site-packages/ray/rllib/algorithms/algorithm.py\", line 516, in __init__\n    super().__init__(\n  File \"/Users/xizhang/.pyenv/versions/streamlit-my-app/envs/3.11.4/lib/python3.10/site-packages/ray/tune/trainable/trainable.py\", line 161, in __init__\n    self.setup(copy.deepcopy(self.config))\n  File \"/Users/xizhang/.pyenv/versions/streamlit-my-app/envs/3.11.4/lib/python3.10/site-packages/ray/rllib/algorithms/algorithm.py\", line 638, in setup\n    self.workers = WorkerSet(\n  File \"/Users/xizhang/.pyenv/versions/streamlit-my-app/envs/3.11.4/lib/python3.10/site-packages/ray/rllib/evaluation/worker_set.py\", line 159, in __init__\n    self._setup(\n  File \"/Users/xizhang/.pyenv/versions/streamlit-my-app/envs/3.11.4/lib/python3.10/site-packages/ray/rllib/evaluation/worker_set.py\", line 249, in _setup\n    self._local_worker = self._make_worker(\n  File \"/Users/xizhang/.pyenv/versions/streamlit-my-app/envs/3.11.4/lib/python3.10/site-packages/ray/rllib/evaluation/worker_set.py\", line 950, in _make_worker\n    worker = cls(\n  File \"/Users/xizhang/.pyenv/versions/streamlit-my-app/envs/3.11.4/lib/python3.10/site-packages/ray/rllib/evaluation/rollout_worker.py\", line 535, in __init__\n    self._update_policy_map(policy_dict=self.policy_dict)\n  File \"/Users/xizhang/.pyenv/versions/streamlit-my-app/envs/3.11.4/lib/python3.10/site-packages/ray/rllib/evaluation/rollout_worker.py\", line 1746, in _update_policy_map\n    self._build_policy_map(\n  File \"/Users/xizhang/.pyenv/versions/streamlit-my-app/envs/3.11.4/lib/python3.10/site-packages/ray/rllib/evaluation/rollout_worker.py\", line 1857, in _build_policy_map\n    new_policy = create_policy_for_framework(\n  File \"/Users/xizhang/.pyenv/versions/streamlit-my-app/envs/3.11.4/lib/python3.10/site-packages/ray/rllib/utils/policy.py\", line 138, in create_policy_for_framework\n    return policy_class(observation_space, action_space, merged_config)\n  File \"/Users/xizhang/.pyenv/versions/streamlit-my-app/envs/3.11.4/lib/python3.10/site-packages/ray/rllib/policy/eager_tf_policy.py\", line 167, in __init__\n    super(TracedEagerPolicy, self).__init__(*args, **kwargs)\n  File \"/Users/xizhang/.pyenv/versions/streamlit-my-app/envs/3.11.4/lib/python3.10/site-packages/ray/rllib/policy/eager_tf_policy.py\", line 409, in __init__\n    validate_spaces(self, observation_space, action_space, config)\n  File \"/Users/xizhang/dev/ray/rllib_contrib/bandit/src/rllib_bandit/bandit/bandit_tf_policy.py\", line 103, in validate_spaces\n    raise UnsupportedSpaceException(msg)\nray.rllib.utils.error.UnsupportedSpaceException: Action space (MultiDiscrete([10 10 10])) of BanditTFPolicy_eager_traced is not supported for Bandit algorithms. Must be `Discrete`. Try to wrap your environment with the `ray.rllib.env.wrappers.recsim::MultiDiscreteToDiscreteActionWrapper` class: `tune.register_env([some str], lambda ctx: MultiDiscreteToDiscreteActionWrapper([your gym env])); config = {'env': [some str]}`"
     ]
    }
   ],
   "source": [
    "from ray import air, tune\n",
    "config = (\n",
    "    BanditLinUCBConfig()\n",
    "    .framework(\"tf2\")\n",
    "    .environment(\n",
    "        env='custom_wrapper_env', # noqa\n",
    "        env_config={\n",
    "                        \"intercept\": 10.0,\n",
    "                        \"n_reps\": 100,\n",
    "                        \"fetures_model_coefficient\": feaures_model_coefficient,\n",
    "                        \"data\": input_data_copy,},\n",
    "         disable_env_checking=True,\n",
    "    )\n",
    "    .reporting(metrics_num_episodes_for_smoothing=500)\n",
    "    .debugging(seed=0)\n",
    ")\n",
    "\n",
    "stop_reward = 180\n",
    "\n",
    "tuner = tune.Tuner(\n",
    "    BanditLinUCB,\n",
    "    param_space=config.to_dict(),\n",
    "    run_config=air.RunConfig(\n",
    "        stop={\n",
    "            \"sampler_results/episode_reward_mean\": stop_reward,\n",
    "            \"timesteps_total\": 1500000,\n",
    "        },\n",
    "        failure_config=air.FailureConfig(fail_fast=\"raise\"),\n",
    "    ),\n",
    ")\n",
    "results = tuner.fit()"
   ]
  },
  {
   "cell_type": "code",
   "execution_count": 169,
   "metadata": {},
   "outputs": [
    {
     "data": {
      "text/plain": [
       "ResultGrid<[\n",
       "  Result(\n",
       "    metrics={'custom_metrics': {}, 'episode_media': {}, 'info': {'learner': {'default_policy': {'learner_stats': {'update_latency': 0.0023169517517089844}}}, 'num_env_steps_sampled': 100, 'num_env_steps_trained': 100, 'num_agent_steps_sampled': 100, 'num_agent_steps_trained': 100}, 'sampler_results': {'episode_reward_max': 1431.500881738094, 'episode_reward_min': 1431.500881738094, 'episode_reward_mean': 1431.500881738094, 'episode_len_mean': 99.0, 'episode_media': {}, 'episodes_this_iter': 1, 'policy_reward_min': {}, 'policy_reward_max': {}, 'policy_reward_mean': {}, 'custom_metrics': {}, 'hist_stats': {'episode_reward': [1431.500881738094], 'episode_lengths': [99]}, 'sampler_perf': {'mean_raw_obs_processing_ms': 0.3209255709506498, 'mean_inference_ms': 0.8934441179332167, 'mean_action_processing_ms': 0.05288643412070699, 'mean_env_wait_ms': 0.4764334990246461, 'mean_env_render_ms': 0.0}, 'num_faulty_episodes': 0, 'connector_metrics': {'ObsPreprocessorConnector_ms': 0.008606910705566406, 'StateBufferConnector_ms': 0.0017642974853515625, 'ViewRequirementAgentConnector_ms': 0.045299530029296875}}, 'episode_reward_max': 1431.500881738094, 'episode_reward_min': 1431.500881738094, 'episode_reward_mean': 1431.500881738094, 'episode_len_mean': 99.0, 'episodes_this_iter': 1, 'policy_reward_min': {}, 'policy_reward_max': {}, 'policy_reward_mean': {}, 'hist_stats': {'episode_reward': [1431.500881738094], 'episode_lengths': [99]}, 'sampler_perf': {'mean_raw_obs_processing_ms': 0.3209255709506498, 'mean_inference_ms': 0.8934441179332167, 'mean_action_processing_ms': 0.05288643412070699, 'mean_env_wait_ms': 0.4764334990246461, 'mean_env_render_ms': 0.0}, 'num_faulty_episodes': 0, 'connector_metrics': {'ObsPreprocessorConnector_ms': 0.008606910705566406, 'StateBufferConnector_ms': 0.0017642974853515625, 'ViewRequirementAgentConnector_ms': 0.045299530029296875}, 'num_healthy_workers': 0, 'num_in_flight_async_reqs': 0, 'num_remote_worker_restarts': 0, 'num_agent_steps_sampled': 100, 'num_agent_steps_trained': 100, 'num_env_steps_sampled': 100, 'num_env_steps_trained': 100, 'num_env_steps_sampled_this_iter': 100, 'num_env_steps_trained_this_iter': 100, 'num_env_steps_sampled_throughput_per_sec': 210.1644264615616, 'num_env_steps_trained_throughput_per_sec': 210.1644264615616, 'num_steps_trained_this_iter': 100, 'agent_timesteps_total': 100, 'timers': {'training_iteration_time_ms': 4.277, 'sample_time_ms': 1.558, 'learn_time_ms': 2.631, 'learn_throughput': 380.088, 'synch_weights_time_ms': 0.071}, 'counters': {'num_env_steps_sampled': 100, 'num_env_steps_trained': 100, 'num_agent_steps_sampled': 100, 'num_agent_steps_trained': 100}, 'perf': {'cpu_util_percent': 0.0, 'ram_util_percent': 79.4}},\n",
       "    path='/Users/xizhang/ray_results/BanditLinUCB_2024-03-19_18-25-47/BanditLinUCB_custom_wrapper_env_1b494_00000_0_2024-03-19_18-25-47',\n",
       "    filesystem='local',\n",
       "    checkpoint=Checkpoint(filesystem=local, path=/Users/xizhang/ray_results/BanditLinUCB_2024-03-19_18-25-47/BanditLinUCB_custom_wrapper_env_1b494_00000_0_2024-03-19_18-25-47/checkpoint_000000)\n",
       "  )\n",
       "]>"
      ]
     },
     "execution_count": 169,
     "metadata": {},
     "output_type": "execute_result"
    }
   ],
   "source": [
    "results\n"
   ]
  },
  {
   "cell_type": "code",
   "execution_count": 172,
   "metadata": {},
   "outputs": [
    {
     "name": "stderr",
     "output_type": "stream",
     "text": [
      "2024-03-19 18:34:40,774\tWARNING util.py:62 -- Install gputil for GPU system monitoring.\n",
      "2024-03-19 18:34:40,845\tINFO trainable.py:585 -- Restored on 127.0.0.1 from checkpoint: Checkpoint(filesystem=local, path=/Users/xizhang/ray_results/BanditLinUCB_2024-03-19_18-25-47/BanditLinUCB_custom_wrapper_env_1b494_00000_0_2024-03-19_18-25-47/checkpoint_000000)\n"
     ]
    }
   ],
   "source": [
    "config_bandit =  BanditLinUCBConfig()\\\n",
    "         .environment(env='custom_wrapper_env', \n",
    "                      env_config={\n",
    "                        \"intercept\": 10.0,\n",
    "                        \"n_reps\": 100,\n",
    "                        \"fetures_model_coefficient\": feaures_model_coefficient,\n",
    "                        \"data\": input_data_copy,},\n",
    "                        disable_env_checking=True,\n",
    "         )\\\n",
    "        .rollouts(num_rollout_workers=1)\\\n",
    "        .framework(\"tf2\")\\\n",
    ".callbacks(MyCustomCallbacks)\n",
    "\n",
    "algo_sim= config_bandit.build()\n",
    "checkpoint_path = \"/Users/xizhang/ray_results/BanditLinUCB_2024-03-19_18-25-47/BanditLinUCB_custom_wrapper_env_1b494_00000_0_2024-03-19_18-25-47/checkpoint_000000\"\n",
    "algo_sim.restore(checkpoint_path)"
   ]
  },
  {
   "cell_type": "code",
   "execution_count": 153,
   "metadata": {},
   "outputs": [
    {
     "name": "stderr",
     "output_type": "stream",
     "text": [
      "/Users/xizhang/.pyenv/versions/streamlit-my-app/envs/3.11.4/lib/python3.10/site-packages/ray/rllib/algorithms/algorithm.py:483: RayDeprecationWarning: This API is deprecated and may be removed in future Ray releases. You could suppress this warning by setting env variable PYTHONWARNINGS=\"ignore::DeprecationWarning\"\n",
      "`UnifiedLogger` will be removed in Ray 2.7.\n",
      "  return UnifiedLogger(config, logdir, loggers=None)\n",
      "/Users/xizhang/.pyenv/versions/streamlit-my-app/envs/3.11.4/lib/python3.10/site-packages/ray/tune/logger/unified.py:53: RayDeprecationWarning: This API is deprecated and may be removed in future Ray releases. You could suppress this warning by setting env variable PYTHONWARNINGS=\"ignore::DeprecationWarning\"\n",
      "The `JsonLogger interface is deprecated in favor of the `ray.tune.json.JsonLoggerCallback` interface and will be removed in Ray 2.7.\n",
      "  self._loggers.append(cls(self.config, self.logdir, self.trial))\n",
      "/Users/xizhang/.pyenv/versions/streamlit-my-app/envs/3.11.4/lib/python3.10/site-packages/ray/tune/logger/unified.py:53: RayDeprecationWarning: This API is deprecated and may be removed in future Ray releases. You could suppress this warning by setting env variable PYTHONWARNINGS=\"ignore::DeprecationWarning\"\n",
      "The `CSVLogger interface is deprecated in favor of the `ray.tune.csv.CSVLoggerCallback` interface and will be removed in Ray 2.7.\n",
      "  self._loggers.append(cls(self.config, self.logdir, self.trial))\n",
      "/Users/xizhang/.pyenv/versions/streamlit-my-app/envs/3.11.4/lib/python3.10/site-packages/ray/tune/logger/unified.py:53: RayDeprecationWarning: This API is deprecated and may be removed in future Ray releases. You could suppress this warning by setting env variable PYTHONWARNINGS=\"ignore::DeprecationWarning\"\n",
      "The `TBXLogger interface is deprecated in favor of the `ray.tune.tensorboardx.TBXLoggerCallback` interface and will be removed in Ray 2.7.\n",
      "  self._loggers.append(cls(self.config, self.logdir, self.trial))\n",
      "2024-03-19 18:11:38,857\tERROR actor_manager.py:506 -- Ray error, taking actor 1 out of service. The actor died because of an error raised in its creation task, \u001b[36mray::RolloutWorker.__init__()\u001b[39m (pid=52742, ip=127.0.0.1, actor_id=c4dbb1af208901c37dab082f01000000, repr=<ray.rllib.evaluation.rollout_worker.RolloutWorker object at 0x386f258d0>)\n",
      "  File \"/Users/xizhang/.pyenv/versions/streamlit-my-app/envs/3.11.4/lib/python3.10/site-packages/ray/rllib/evaluation/rollout_worker.py\", line 535, in __init__\n",
      "    self._update_policy_map(policy_dict=self.policy_dict)\n",
      "  File \"/Users/xizhang/.pyenv/versions/streamlit-my-app/envs/3.11.4/lib/python3.10/site-packages/ray/rllib/evaluation/rollout_worker.py\", line 1746, in _update_policy_map\n",
      "    self._build_policy_map(\n",
      "  File \"/Users/xizhang/.pyenv/versions/streamlit-my-app/envs/3.11.4/lib/python3.10/site-packages/ray/rllib/evaluation/rollout_worker.py\", line 1857, in _build_policy_map\n",
      "    new_policy = create_policy_for_framework(\n",
      "  File \"/Users/xizhang/.pyenv/versions/streamlit-my-app/envs/3.11.4/lib/python3.10/site-packages/ray/rllib/utils/policy.py\", line 138, in create_policy_for_framework\n",
      "    return policy_class(observation_space, action_space, merged_config)\n",
      "  File \"/Users/xizhang/.pyenv/versions/streamlit-my-app/envs/3.11.4/lib/python3.10/site-packages/ray/rllib/policy/eager_tf_policy.py\", line 167, in __init__\n",
      "    super(TracedEagerPolicy, self).__init__(*args, **kwargs)\n",
      "  File \"/Users/xizhang/.pyenv/versions/streamlit-my-app/envs/3.11.4/lib/python3.10/site-packages/ray/rllib/policy/eager_tf_policy.py\", line 409, in __init__\n",
      "    validate_spaces(self, observation_space, action_space, config)\n",
      "  File \"/Users/xizhang/dev/ray/rllib_contrib/bandit/src/rllib_bandit/bandit/bandit_tf_policy.py\", line 103, in validate_spaces\n",
      "    raise UnsupportedSpaceException(msg)\n",
      "ray.rllib.utils.error.UnsupportedSpaceException: Action space (Box(0.0, 10.0, (5,), float64)) of BanditTFPolicy_eager_traced is not supported for Bandit algorithms. Must be `Discrete`.\n"
     ]
    },
    {
     "ename": "UnsupportedSpaceException",
     "evalue": "Action space (Box(0.0, 10.0, (5,), float64)) of BanditTFPolicy_eager_traced is not supported for Bandit algorithms. Must be `Discrete`.",
     "output_type": "error",
     "traceback": [
      "\u001b[0;31m---------------------------------------------------------------------------\u001b[0m",
      "\u001b[0;31mRayActorError\u001b[0m                             Traceback (most recent call last)",
      "File \u001b[0;32m~/.pyenv/versions/streamlit-my-app/envs/3.11.4/lib/python3.10/site-packages/ray/rllib/evaluation/worker_set.py:159\u001b[0m, in \u001b[0;36mWorkerSet.__init__\u001b[0;34m(self, env_creator, validate_env, default_policy_class, config, num_workers, local_worker, logdir, _setup)\u001b[0m\n\u001b[1;32m    158\u001b[0m \u001b[38;5;28;01mtry\u001b[39;00m:\n\u001b[0;32m--> 159\u001b[0m     \u001b[38;5;28;43mself\u001b[39;49m\u001b[38;5;241;43m.\u001b[39;49m\u001b[43m_setup\u001b[49m\u001b[43m(\u001b[49m\n\u001b[1;32m    160\u001b[0m \u001b[43m        \u001b[49m\u001b[43mvalidate_env\u001b[49m\u001b[38;5;241;43m=\u001b[39;49m\u001b[43mvalidate_env\u001b[49m\u001b[43m,\u001b[49m\n\u001b[1;32m    161\u001b[0m \u001b[43m        \u001b[49m\u001b[43mconfig\u001b[49m\u001b[38;5;241;43m=\u001b[39;49m\u001b[43mconfig\u001b[49m\u001b[43m,\u001b[49m\n\u001b[1;32m    162\u001b[0m \u001b[43m        \u001b[49m\u001b[43mnum_workers\u001b[49m\u001b[38;5;241;43m=\u001b[39;49m\u001b[43mnum_workers\u001b[49m\u001b[43m,\u001b[49m\n\u001b[1;32m    163\u001b[0m \u001b[43m        \u001b[49m\u001b[43mlocal_worker\u001b[49m\u001b[38;5;241;43m=\u001b[39;49m\u001b[43mlocal_worker\u001b[49m\u001b[43m,\u001b[49m\n\u001b[1;32m    164\u001b[0m \u001b[43m    \u001b[49m\u001b[43m)\u001b[49m\n\u001b[1;32m    165\u001b[0m \u001b[38;5;66;03m# WorkerSet creation possibly fails, if some (remote) workers cannot\u001b[39;00m\n\u001b[1;32m    166\u001b[0m \u001b[38;5;66;03m# be initialized properly (due to some errors in the EnvRunners's\u001b[39;00m\n\u001b[1;32m    167\u001b[0m \u001b[38;5;66;03m# constructor).\u001b[39;00m\n",
      "File \u001b[0;32m~/.pyenv/versions/streamlit-my-app/envs/3.11.4/lib/python3.10/site-packages/ray/rllib/evaluation/worker_set.py:229\u001b[0m, in \u001b[0;36mWorkerSet._setup\u001b[0;34m(self, validate_env, config, num_workers, local_worker)\u001b[0m\n\u001b[1;32m    228\u001b[0m \u001b[38;5;66;03m# Create a number of @ray.remote workers.\u001b[39;00m\n\u001b[0;32m--> 229\u001b[0m \u001b[38;5;28;43mself\u001b[39;49m\u001b[38;5;241;43m.\u001b[39;49m\u001b[43madd_workers\u001b[49m\u001b[43m(\u001b[49m\n\u001b[1;32m    230\u001b[0m \u001b[43m    \u001b[49m\u001b[43mnum_workers\u001b[49m\u001b[43m,\u001b[49m\n\u001b[1;32m    231\u001b[0m \u001b[43m    \u001b[49m\u001b[43mvalidate\u001b[49m\u001b[38;5;241;43m=\u001b[39;49m\u001b[43mconfig\u001b[49m\u001b[38;5;241;43m.\u001b[39;49m\u001b[43mvalidate_workers_after_construction\u001b[49m\u001b[43m,\u001b[49m\n\u001b[1;32m    232\u001b[0m \u001b[43m\u001b[49m\u001b[43m)\u001b[49m\n\u001b[1;32m    234\u001b[0m \u001b[38;5;66;03m# If num_workers > 0 and we don't have an env on the local worker,\u001b[39;00m\n\u001b[1;32m    235\u001b[0m \u001b[38;5;66;03m# get the observation- and action spaces for each policy from\u001b[39;00m\n\u001b[1;32m    236\u001b[0m \u001b[38;5;66;03m# the first remote worker (which does have an env).\u001b[39;00m\n",
      "File \u001b[0;32m~/.pyenv/versions/streamlit-my-app/envs/3.11.4/lib/python3.10/site-packages/ray/rllib/evaluation/worker_set.py:616\u001b[0m, in \u001b[0;36mWorkerSet.add_workers\u001b[0;34m(self, num_workers, validate)\u001b[0m\n\u001b[1;32m    615\u001b[0m \u001b[38;5;28;01mif\u001b[39;00m \u001b[38;5;129;01mnot\u001b[39;00m result\u001b[38;5;241m.\u001b[39mok:\n\u001b[0;32m--> 616\u001b[0m     \u001b[38;5;28;01mraise\u001b[39;00m result\u001b[38;5;241m.\u001b[39mget()\n",
      "File \u001b[0;32m~/.pyenv/versions/streamlit-my-app/envs/3.11.4/lib/python3.10/site-packages/ray/rllib/utils/actor_manager.py:487\u001b[0m, in \u001b[0;36mFaultTolerantActorManager.__fetch_result\u001b[0;34m(self, remote_actor_ids, remote_calls, tags, timeout_seconds, return_obj_refs, mark_healthy)\u001b[0m\n\u001b[1;32m    486\u001b[0m \u001b[38;5;28;01mtry\u001b[39;00m:\n\u001b[0;32m--> 487\u001b[0m     result \u001b[38;5;241m=\u001b[39m \u001b[43mray\u001b[49m\u001b[38;5;241;43m.\u001b[39;49m\u001b[43mget\u001b[49m\u001b[43m(\u001b[49m\u001b[43mr\u001b[49m\u001b[43m)\u001b[49m\n\u001b[1;32m    488\u001b[0m     remote_results\u001b[38;5;241m.\u001b[39madd_result(actor_id, ResultOrError(result\u001b[38;5;241m=\u001b[39mresult), tag)\n",
      "File \u001b[0;32m~/.pyenv/versions/streamlit-my-app/envs/3.11.4/lib/python3.10/site-packages/ray/_private/auto_init_hook.py:22\u001b[0m, in \u001b[0;36mwrap_auto_init.<locals>.auto_init_wrapper\u001b[0;34m(*args, **kwargs)\u001b[0m\n\u001b[1;32m     21\u001b[0m auto_init_ray()\n\u001b[0;32m---> 22\u001b[0m \u001b[38;5;28;01mreturn\u001b[39;00m \u001b[43mfn\u001b[49m\u001b[43m(\u001b[49m\u001b[38;5;241;43m*\u001b[39;49m\u001b[43margs\u001b[49m\u001b[43m,\u001b[49m\u001b[43m \u001b[49m\u001b[38;5;241;43m*\u001b[39;49m\u001b[38;5;241;43m*\u001b[39;49m\u001b[43mkwargs\u001b[49m\u001b[43m)\u001b[49m\n",
      "File \u001b[0;32m~/.pyenv/versions/streamlit-my-app/envs/3.11.4/lib/python3.10/site-packages/ray/_private/client_mode_hook.py:103\u001b[0m, in \u001b[0;36mclient_mode_hook.<locals>.wrapper\u001b[0;34m(*args, **kwargs)\u001b[0m\n\u001b[1;32m    102\u001b[0m         \u001b[38;5;28;01mreturn\u001b[39;00m \u001b[38;5;28mgetattr\u001b[39m(ray, func\u001b[38;5;241m.\u001b[39m\u001b[38;5;18m__name__\u001b[39m)(\u001b[38;5;241m*\u001b[39margs, \u001b[38;5;241m*\u001b[39m\u001b[38;5;241m*\u001b[39mkwargs)\n\u001b[0;32m--> 103\u001b[0m \u001b[38;5;28;01mreturn\u001b[39;00m \u001b[43mfunc\u001b[49m\u001b[43m(\u001b[49m\u001b[38;5;241;43m*\u001b[39;49m\u001b[43margs\u001b[49m\u001b[43m,\u001b[49m\u001b[43m \u001b[49m\u001b[38;5;241;43m*\u001b[39;49m\u001b[38;5;241;43m*\u001b[39;49m\u001b[43mkwargs\u001b[49m\u001b[43m)\u001b[49m\n",
      "File \u001b[0;32m~/.pyenv/versions/streamlit-my-app/envs/3.11.4/lib/python3.10/site-packages/ray/_private/worker.py:2626\u001b[0m, in \u001b[0;36mget\u001b[0;34m(object_refs, timeout)\u001b[0m\n\u001b[1;32m   2625\u001b[0m         \u001b[38;5;28;01melse\u001b[39;00m:\n\u001b[0;32m-> 2626\u001b[0m             \u001b[38;5;28;01mraise\u001b[39;00m value\n\u001b[1;32m   2628\u001b[0m \u001b[38;5;28;01mif\u001b[39;00m is_individual_id:\n",
      "\u001b[0;31mRayActorError\u001b[0m: The actor died because of an error raised in its creation task, \u001b[36mray::RolloutWorker.__init__()\u001b[39m (pid=52742, ip=127.0.0.1, actor_id=c4dbb1af208901c37dab082f01000000, repr=<ray.rllib.evaluation.rollout_worker.RolloutWorker object at 0x386f258d0>)\n  File \"/Users/xizhang/.pyenv/versions/streamlit-my-app/envs/3.11.4/lib/python3.10/site-packages/ray/rllib/evaluation/rollout_worker.py\", line 535, in __init__\n    self._update_policy_map(policy_dict=self.policy_dict)\n  File \"/Users/xizhang/.pyenv/versions/streamlit-my-app/envs/3.11.4/lib/python3.10/site-packages/ray/rllib/evaluation/rollout_worker.py\", line 1746, in _update_policy_map\n    self._build_policy_map(\n  File \"/Users/xizhang/.pyenv/versions/streamlit-my-app/envs/3.11.4/lib/python3.10/site-packages/ray/rllib/evaluation/rollout_worker.py\", line 1857, in _build_policy_map\n    new_policy = create_policy_for_framework(\n  File \"/Users/xizhang/.pyenv/versions/streamlit-my-app/envs/3.11.4/lib/python3.10/site-packages/ray/rllib/utils/policy.py\", line 138, in create_policy_for_framework\n    return policy_class(observation_space, action_space, merged_config)\n  File \"/Users/xizhang/.pyenv/versions/streamlit-my-app/envs/3.11.4/lib/python3.10/site-packages/ray/rllib/policy/eager_tf_policy.py\", line 167, in __init__\n    super(TracedEagerPolicy, self).__init__(*args, **kwargs)\n  File \"/Users/xizhang/.pyenv/versions/streamlit-my-app/envs/3.11.4/lib/python3.10/site-packages/ray/rllib/policy/eager_tf_policy.py\", line 409, in __init__\n    validate_spaces(self, observation_space, action_space, config)\n  File \"/Users/xizhang/dev/ray/rllib_contrib/bandit/src/rllib_bandit/bandit/bandit_tf_policy.py\", line 103, in validate_spaces\n    raise UnsupportedSpaceException(msg)\nray.rllib.utils.error.UnsupportedSpaceException: Action space (Box(0.0, 10.0, (5,), float64)) of BanditTFPolicy_eager_traced is not supported for Bandit algorithms. Must be `Discrete`.",
      "\nDuring handling of the above exception, another exception occurred:\n",
      "\u001b[0;31mUnsupportedSpaceException\u001b[0m                 Traceback (most recent call last)",
      "Cell \u001b[0;32mIn[153], line 14\u001b[0m\n\u001b[1;32m      1\u001b[0m config_bandit \u001b[38;5;241m=\u001b[39m  BanditLinUCBConfig()\\\n\u001b[1;32m      2\u001b[0m          \u001b[38;5;241m.\u001b[39menvironment(env\u001b[38;5;241m=\u001b[39m\u001b[38;5;124m'\u001b[39m\u001b[38;5;124mcustom_wrapper_env\u001b[39m\u001b[38;5;124m'\u001b[39m, \n\u001b[1;32m      3\u001b[0m                       env_config\u001b[38;5;241m=\u001b[39m{\n\u001b[0;32m   (...)\u001b[0m\n\u001b[1;32m     11\u001b[0m         \u001b[38;5;241m.\u001b[39mframework(\u001b[38;5;124m\"\u001b[39m\u001b[38;5;124mtf2\u001b[39m\u001b[38;5;124m\"\u001b[39m)\\\n\u001b[1;32m     12\u001b[0m \u001b[38;5;241m.\u001b[39mcallbacks(MyCustomCallbacks)\n\u001b[0;32m---> 14\u001b[0m algo_sim\u001b[38;5;241m=\u001b[39m \u001b[43mconfig_bandit\u001b[49m\u001b[38;5;241;43m.\u001b[39;49m\u001b[43mbuild\u001b[49m\u001b[43m(\u001b[49m\u001b[43m)\u001b[49m\n\u001b[1;32m     16\u001b[0m \u001b[38;5;28;01mfor\u001b[39;00m i \u001b[38;5;129;01min\u001b[39;00m \u001b[38;5;28mrange\u001b[39m(\u001b[38;5;241m10\u001b[39m):\n\u001b[1;32m     17\u001b[0m     results \u001b[38;5;241m=\u001b[39m algo_sim\u001b[38;5;241m.\u001b[39mtrain()\n",
      "File \u001b[0;32m~/.pyenv/versions/streamlit-my-app/envs/3.11.4/lib/python3.10/site-packages/ray/rllib/algorithms/algorithm_config.py:1137\u001b[0m, in \u001b[0;36mAlgorithmConfig.build\u001b[0;34m(self, env, logger_creator, use_copy)\u001b[0m\n\u001b[1;32m   1134\u001b[0m \u001b[38;5;28;01mif\u001b[39;00m \u001b[38;5;28misinstance\u001b[39m(\u001b[38;5;28mself\u001b[39m\u001b[38;5;241m.\u001b[39malgo_class, \u001b[38;5;28mstr\u001b[39m):\n\u001b[1;32m   1135\u001b[0m     algo_class \u001b[38;5;241m=\u001b[39m get_trainable_cls(\u001b[38;5;28mself\u001b[39m\u001b[38;5;241m.\u001b[39malgo_class)\n\u001b[0;32m-> 1137\u001b[0m \u001b[38;5;28;01mreturn\u001b[39;00m \u001b[43malgo_class\u001b[49m\u001b[43m(\u001b[49m\n\u001b[1;32m   1138\u001b[0m \u001b[43m    \u001b[49m\u001b[43mconfig\u001b[49m\u001b[38;5;241;43m=\u001b[39;49m\u001b[38;5;28;43mself\u001b[39;49m\u001b[43m \u001b[49m\u001b[38;5;28;43;01mif\u001b[39;49;00m\u001b[43m \u001b[49m\u001b[38;5;129;43;01mnot\u001b[39;49;00m\u001b[43m \u001b[49m\u001b[43muse_copy\u001b[49m\u001b[43m \u001b[49m\u001b[38;5;28;43;01melse\u001b[39;49;00m\u001b[43m \u001b[49m\u001b[43mcopy\u001b[49m\u001b[38;5;241;43m.\u001b[39;49m\u001b[43mdeepcopy\u001b[49m\u001b[43m(\u001b[49m\u001b[38;5;28;43mself\u001b[39;49m\u001b[43m)\u001b[49m\u001b[43m,\u001b[49m\n\u001b[1;32m   1139\u001b[0m \u001b[43m    \u001b[49m\u001b[43mlogger_creator\u001b[49m\u001b[38;5;241;43m=\u001b[39;49m\u001b[38;5;28;43mself\u001b[39;49m\u001b[38;5;241;43m.\u001b[39;49m\u001b[43mlogger_creator\u001b[49m\u001b[43m,\u001b[49m\n\u001b[1;32m   1140\u001b[0m \u001b[43m\u001b[49m\u001b[43m)\u001b[49m\n",
      "File \u001b[0;32m~/.pyenv/versions/streamlit-my-app/envs/3.11.4/lib/python3.10/site-packages/ray/rllib/algorithms/algorithm.py:516\u001b[0m, in \u001b[0;36mAlgorithm.__init__\u001b[0;34m(self, config, env, logger_creator, **kwargs)\u001b[0m\n\u001b[1;32m    498\u001b[0m \u001b[38;5;66;03m# Initialize common evaluation_metrics to nan, before they become\u001b[39;00m\n\u001b[1;32m    499\u001b[0m \u001b[38;5;66;03m# available. We want to make sure the metrics are always present\u001b[39;00m\n\u001b[1;32m    500\u001b[0m \u001b[38;5;66;03m# (although their values may be nan), so that Tune does not complain\u001b[39;00m\n\u001b[1;32m    501\u001b[0m \u001b[38;5;66;03m# when we use these as stopping criteria.\u001b[39;00m\n\u001b[1;32m    502\u001b[0m \u001b[38;5;28mself\u001b[39m\u001b[38;5;241m.\u001b[39mevaluation_metrics \u001b[38;5;241m=\u001b[39m {\n\u001b[1;32m    503\u001b[0m     \u001b[38;5;66;03m# TODO: Don't dump sampler results into top-level.\u001b[39;00m\n\u001b[1;32m    504\u001b[0m     \u001b[38;5;124m\"\u001b[39m\u001b[38;5;124mevaluation\u001b[39m\u001b[38;5;124m\"\u001b[39m: {\n\u001b[0;32m   (...)\u001b[0m\n\u001b[1;32m    513\u001b[0m     },\n\u001b[1;32m    514\u001b[0m }\n\u001b[0;32m--> 516\u001b[0m \u001b[38;5;28;43msuper\u001b[39;49m\u001b[43m(\u001b[49m\u001b[43m)\u001b[49m\u001b[38;5;241;43m.\u001b[39;49m\u001b[38;5;21;43m__init__\u001b[39;49m\u001b[43m(\u001b[49m\n\u001b[1;32m    517\u001b[0m \u001b[43m    \u001b[49m\u001b[43mconfig\u001b[49m\u001b[38;5;241;43m=\u001b[39;49m\u001b[43mconfig\u001b[49m\u001b[43m,\u001b[49m\n\u001b[1;32m    518\u001b[0m \u001b[43m    \u001b[49m\u001b[43mlogger_creator\u001b[49m\u001b[38;5;241;43m=\u001b[39;49m\u001b[43mlogger_creator\u001b[49m\u001b[43m,\u001b[49m\n\u001b[1;32m    519\u001b[0m \u001b[43m    \u001b[49m\u001b[38;5;241;43m*\u001b[39;49m\u001b[38;5;241;43m*\u001b[39;49m\u001b[43mkwargs\u001b[49m\u001b[43m,\u001b[49m\n\u001b[1;32m    520\u001b[0m \u001b[43m\u001b[49m\u001b[43m)\u001b[49m\n\u001b[1;32m    522\u001b[0m \u001b[38;5;66;03m# Check, whether `training_iteration` is still a tune.Trainable property\u001b[39;00m\n\u001b[1;32m    523\u001b[0m \u001b[38;5;66;03m# and has not been overridden by the user in the attempt to implement the\u001b[39;00m\n\u001b[1;32m    524\u001b[0m \u001b[38;5;66;03m# algos logic (this should be done now inside `training_step`).\u001b[39;00m\n\u001b[1;32m    525\u001b[0m \u001b[38;5;28;01mtry\u001b[39;00m:\n",
      "File \u001b[0;32m~/.pyenv/versions/streamlit-my-app/envs/3.11.4/lib/python3.10/site-packages/ray/tune/trainable/trainable.py:161\u001b[0m, in \u001b[0;36mTrainable.__init__\u001b[0;34m(self, config, logger_creator, storage)\u001b[0m\n\u001b[1;32m    157\u001b[0m     logger\u001b[38;5;241m.\u001b[39mdebug(\u001b[38;5;124mf\u001b[39m\u001b[38;5;124m\"\u001b[39m\u001b[38;5;124mStorageContext on the TRAINABLE:\u001b[39m\u001b[38;5;130;01m\\n\u001b[39;00m\u001b[38;5;132;01m{\u001b[39;00mstorage\u001b[38;5;132;01m}\u001b[39;00m\u001b[38;5;124m\"\u001b[39m)\n\u001b[1;32m    159\u001b[0m \u001b[38;5;28mself\u001b[39m\u001b[38;5;241m.\u001b[39m_open_logfiles(stdout_file, stderr_file)\n\u001b[0;32m--> 161\u001b[0m \u001b[38;5;28;43mself\u001b[39;49m\u001b[38;5;241;43m.\u001b[39;49m\u001b[43msetup\u001b[49m\u001b[43m(\u001b[49m\u001b[43mcopy\u001b[49m\u001b[38;5;241;43m.\u001b[39;49m\u001b[43mdeepcopy\u001b[49m\u001b[43m(\u001b[49m\u001b[38;5;28;43mself\u001b[39;49m\u001b[38;5;241;43m.\u001b[39;49m\u001b[43mconfig\u001b[49m\u001b[43m)\u001b[49m\u001b[43m)\u001b[49m\n\u001b[1;32m    162\u001b[0m setup_time \u001b[38;5;241m=\u001b[39m time\u001b[38;5;241m.\u001b[39mtime() \u001b[38;5;241m-\u001b[39m \u001b[38;5;28mself\u001b[39m\u001b[38;5;241m.\u001b[39m_start_time\n\u001b[1;32m    163\u001b[0m \u001b[38;5;28;01mif\u001b[39;00m setup_time \u001b[38;5;241m>\u001b[39m SETUP_TIME_THRESHOLD:\n",
      "File \u001b[0;32m~/.pyenv/versions/streamlit-my-app/envs/3.11.4/lib/python3.10/site-packages/ray/rllib/algorithms/algorithm.py:638\u001b[0m, in \u001b[0;36mAlgorithm.setup\u001b[0;34m(self, config)\u001b[0m\n\u001b[1;32m    635\u001b[0m \u001b[38;5;66;03m# Only if user did not override `_init()`:\u001b[39;00m\n\u001b[1;32m    636\u001b[0m \u001b[38;5;28;01mif\u001b[39;00m _init \u001b[38;5;129;01mis\u001b[39;00m \u001b[38;5;28;01mFalse\u001b[39;00m:\n\u001b[1;32m    637\u001b[0m     \u001b[38;5;66;03m# Create a set of env runner actors via a WorkerSet.\u001b[39;00m\n\u001b[0;32m--> 638\u001b[0m     \u001b[38;5;28mself\u001b[39m\u001b[38;5;241m.\u001b[39mworkers \u001b[38;5;241m=\u001b[39m \u001b[43mWorkerSet\u001b[49m\u001b[43m(\u001b[49m\n\u001b[1;32m    639\u001b[0m \u001b[43m        \u001b[49m\u001b[43menv_creator\u001b[49m\u001b[38;5;241;43m=\u001b[39;49m\u001b[38;5;28;43mself\u001b[39;49m\u001b[38;5;241;43m.\u001b[39;49m\u001b[43menv_creator\u001b[49m\u001b[43m,\u001b[49m\n\u001b[1;32m    640\u001b[0m \u001b[43m        \u001b[49m\u001b[43mvalidate_env\u001b[49m\u001b[38;5;241;43m=\u001b[39;49m\u001b[38;5;28;43mself\u001b[39;49m\u001b[38;5;241;43m.\u001b[39;49m\u001b[43mvalidate_env\u001b[49m\u001b[43m,\u001b[49m\n\u001b[1;32m    641\u001b[0m \u001b[43m        \u001b[49m\u001b[43mdefault_policy_class\u001b[49m\u001b[38;5;241;43m=\u001b[39;49m\u001b[38;5;28;43mself\u001b[39;49m\u001b[38;5;241;43m.\u001b[39;49m\u001b[43mget_default_policy_class\u001b[49m\u001b[43m(\u001b[49m\u001b[38;5;28;43mself\u001b[39;49m\u001b[38;5;241;43m.\u001b[39;49m\u001b[43mconfig\u001b[49m\u001b[43m)\u001b[49m\u001b[43m,\u001b[49m\n\u001b[1;32m    642\u001b[0m \u001b[43m        \u001b[49m\u001b[43mconfig\u001b[49m\u001b[38;5;241;43m=\u001b[39;49m\u001b[38;5;28;43mself\u001b[39;49m\u001b[38;5;241;43m.\u001b[39;49m\u001b[43mconfig\u001b[49m\u001b[43m,\u001b[49m\n\u001b[1;32m    643\u001b[0m \u001b[43m        \u001b[49m\u001b[43mnum_workers\u001b[49m\u001b[38;5;241;43m=\u001b[39;49m\u001b[38;5;28;43mself\u001b[39;49m\u001b[38;5;241;43m.\u001b[39;49m\u001b[43mconfig\u001b[49m\u001b[38;5;241;43m.\u001b[39;49m\u001b[43mnum_rollout_workers\u001b[49m\u001b[43m,\u001b[49m\n\u001b[1;32m    644\u001b[0m \u001b[43m        \u001b[49m\u001b[43mlocal_worker\u001b[49m\u001b[38;5;241;43m=\u001b[39;49m\u001b[38;5;28;43;01mTrue\u001b[39;49;00m\u001b[43m,\u001b[49m\n\u001b[1;32m    645\u001b[0m \u001b[43m        \u001b[49m\u001b[43mlogdir\u001b[49m\u001b[38;5;241;43m=\u001b[39;49m\u001b[38;5;28;43mself\u001b[39;49m\u001b[38;5;241;43m.\u001b[39;49m\u001b[43mlogdir\u001b[49m\u001b[43m,\u001b[49m\n\u001b[1;32m    646\u001b[0m \u001b[43m    \u001b[49m\u001b[43m)\u001b[49m\n\u001b[1;32m    648\u001b[0m     \u001b[38;5;66;03m# TODO (avnishn): Remove the execution plan API by q1 2023\u001b[39;00m\n\u001b[1;32m    649\u001b[0m     \u001b[38;5;66;03m# Function defining one single training iteration's behavior.\u001b[39;00m\n\u001b[1;32m    650\u001b[0m     \u001b[38;5;28;01mif\u001b[39;00m \u001b[38;5;28mself\u001b[39m\u001b[38;5;241m.\u001b[39mconfig\u001b[38;5;241m.\u001b[39m_disable_execution_plan_api:\n\u001b[1;32m    651\u001b[0m         \u001b[38;5;66;03m# Ensure remote workers are initially in sync with the local worker.\u001b[39;00m\n",
      "File \u001b[0;32m~/.pyenv/versions/streamlit-my-app/envs/3.11.4/lib/python3.10/site-packages/ray/rllib/evaluation/worker_set.py:181\u001b[0m, in \u001b[0;36mWorkerSet.__init__\u001b[0;34m(self, env_creator, validate_env, default_policy_class, config, num_workers, local_worker, logdir, _setup)\u001b[0m\n\u001b[1;32m    168\u001b[0m \u001b[38;5;28;01mexcept\u001b[39;00m RayActorError \u001b[38;5;28;01mas\u001b[39;00m e:\n\u001b[1;32m    169\u001b[0m     \u001b[38;5;66;03m# In case of an actor (remote worker) init failure, the remote worker\u001b[39;00m\n\u001b[1;32m    170\u001b[0m     \u001b[38;5;66;03m# may still exist and will be accessible, however, e.g. calling\u001b[39;00m\n\u001b[1;32m    171\u001b[0m     \u001b[38;5;66;03m# its `sample.remote()` would result in strange \"property not found\"\u001b[39;00m\n\u001b[1;32m    172\u001b[0m     \u001b[38;5;66;03m# errors.\u001b[39;00m\n\u001b[1;32m    173\u001b[0m     \u001b[38;5;28;01mif\u001b[39;00m e\u001b[38;5;241m.\u001b[39mactor_init_failed:\n\u001b[1;32m    174\u001b[0m         \u001b[38;5;66;03m# Raise the original error here that the EnvRunners raised\u001b[39;00m\n\u001b[1;32m    175\u001b[0m         \u001b[38;5;66;03m# during its construction process. This is to enforce transparency\u001b[39;00m\n\u001b[0;32m   (...)\u001b[0m\n\u001b[1;32m    179\u001b[0m         \u001b[38;5;66;03m# - e.args[0].args[2]: The original Exception (e.g. a ValueError due\u001b[39;00m\n\u001b[1;32m    180\u001b[0m         \u001b[38;5;66;03m# to a config mismatch) thrown inside the actor.\u001b[39;00m\n\u001b[0;32m--> 181\u001b[0m         \u001b[38;5;28;01mraise\u001b[39;00m e\u001b[38;5;241m.\u001b[39margs[\u001b[38;5;241m0\u001b[39m]\u001b[38;5;241m.\u001b[39margs[\u001b[38;5;241m2\u001b[39m]\n\u001b[1;32m    182\u001b[0m     \u001b[38;5;66;03m# In any other case, raise the RayActorError as-is.\u001b[39;00m\n\u001b[1;32m    183\u001b[0m     \u001b[38;5;28;01melse\u001b[39;00m:\n\u001b[1;32m    184\u001b[0m         \u001b[38;5;28;01mraise\u001b[39;00m e\n",
      "\u001b[0;31mUnsupportedSpaceException\u001b[0m: Action space (Box(0.0, 10.0, (5,), float64)) of BanditTFPolicy_eager_traced is not supported for Bandit algorithms. Must be `Discrete`."
     ]
    }
   ],
   "source": [
    "config_bandit =  BanditLinUCBConfig()\\\n",
    "         .environment(env='custom_wrapper_env', \n",
    "                      env_config={\n",
    "                        \"intercept\": 10.0,\n",
    "                        \"n_reps\": 100,\n",
    "                        \"fetures_model_coefficient\": feaures_model_coefficient,\n",
    "                        \"data\": input_data_copy,},\n",
    "                        disable_env_checking=True,\n",
    "         )\\\n",
    "        .rollouts(num_rollout_workers=1)\\\n",
    "        .framework(\"tf2\")\\\n",
    ".callbacks(MyCustomCallbacks)\n",
    "\n",
    "algo_sim= config_bandit.build()\n",
    "\n",
    "for i in range(10):\n",
    "    results = algo_sim.train()\n",
    "    # print(f'Iter:{i} ; results = {results}')\n",
    "    #print(results)\n",
    "    print(f\"Iter: {i}; total reward={results['episode_reward_mean']}\")\n"
   ]
  },
  {
   "cell_type": "code",
   "execution_count": null,
   "metadata": {},
   "outputs": [],
   "source": []
  },
  {
   "cell_type": "code",
   "execution_count": 139,
   "metadata": {},
   "outputs": [],
   "source": [
    "wrapper_env = create_env({\n",
    "    \"intercept\": 10.0,\n",
    "    \"n_reps\": 100,\n",
    "    \"fetures_model_coefficient\": feaures_model_coefficient,\n",
    "    \"data\": input_data_copy,\n",
    "})"
   ]
  },
  {
   "cell_type": "code",
   "execution_count": 140,
   "metadata": {},
   "outputs": [
    {
     "data": {
      "text/plain": [
       "(5, 35)"
      ]
     },
     "execution_count": 140,
     "metadata": {},
     "output_type": "execute_result"
    }
   ],
   "source": [
    "wrapper_env.observation(wrapper_env.observation_space.sample())[\"item\"].shape"
   ]
  },
  {
   "cell_type": "code",
   "execution_count": null,
   "metadata": {},
   "outputs": [],
   "source": []
  },
  {
   "cell_type": "code",
   "execution_count": 177,
   "metadata": {},
   "outputs": [
    {
     "ename": "ValueError",
     "evalue": "Expected flattened obs shape of [..., 35], got (1, 5, 7)",
     "output_type": "error",
     "traceback": [
      "\u001b[0;31m---------------------------------------------------------------------------\u001b[0m",
      "\u001b[0;31mValueError\u001b[0m                                Traceback (most recent call last)",
      "Cell \u001b[0;32mIn[177], line 9\u001b[0m\n\u001b[1;32m      5\u001b[0m \u001b[38;5;66;03m# Play one episode.\u001b[39;00m\n\u001b[1;32m      6\u001b[0m \u001b[38;5;28;01mwhile\u001b[39;00m \u001b[38;5;129;01mnot\u001b[39;00m terminated \u001b[38;5;129;01mand\u001b[39;00m \u001b[38;5;129;01mnot\u001b[39;00m truncated:\n\u001b[1;32m      7\u001b[0m     \u001b[38;5;66;03m# Compute a single action, given the current observation\u001b[39;00m\n\u001b[1;32m      8\u001b[0m     \u001b[38;5;66;03m# from the environment.\u001b[39;00m\n\u001b[0;32m----> 9\u001b[0m     action \u001b[38;5;241m=\u001b[39m \u001b[43malgo_sim\u001b[49m\u001b[38;5;241;43m.\u001b[39;49m\u001b[43mcompute_actions\u001b[49m\u001b[43m(\u001b[49m\u001b[43mobs\u001b[49m\u001b[43m)\u001b[49m\n\u001b[1;32m     10\u001b[0m     \u001b[38;5;66;03m# Apply the computed action in the environment.\u001b[39;00m\n\u001b[1;32m     11\u001b[0m     obs, reward, terminated, truncated, info \u001b[38;5;241m=\u001b[39m wrapper_env\u001b[38;5;241m.\u001b[39mstep(action)\n",
      "File \u001b[0;32m~/.pyenv/versions/streamlit-my-app/envs/3.11.4/lib/python3.10/site-packages/ray/rllib/algorithms/algorithm.py:1969\u001b[0m, in \u001b[0;36mAlgorithm.compute_actions\u001b[0;34m(self, observations, state, prev_action, prev_reward, info, policy_id, full_fetch, explore, timestep, episodes, unsquash_actions, clip_actions, **kwargs)\u001b[0m\n\u001b[1;32m   1966\u001b[0m     input_dict[\u001b[38;5;124mf\u001b[39m\u001b[38;5;124m\"\u001b[39m\u001b[38;5;124mstate_in_\u001b[39m\u001b[38;5;132;01m{\u001b[39;00mi\u001b[38;5;132;01m}\u001b[39;00m\u001b[38;5;124m\"\u001b[39m] \u001b[38;5;241m=\u001b[39m s\n\u001b[1;32m   1968\u001b[0m \u001b[38;5;66;03m# Batch compute actions\u001b[39;00m\n\u001b[0;32m-> 1969\u001b[0m actions, states, infos \u001b[38;5;241m=\u001b[39m \u001b[43mpolicy\u001b[49m\u001b[38;5;241;43m.\u001b[39;49m\u001b[43mcompute_actions_from_input_dict\u001b[49m\u001b[43m(\u001b[49m\n\u001b[1;32m   1970\u001b[0m \u001b[43m    \u001b[49m\u001b[43minput_dict\u001b[49m\u001b[38;5;241;43m=\u001b[39;49m\u001b[43minput_dict\u001b[49m\u001b[43m,\u001b[49m\n\u001b[1;32m   1971\u001b[0m \u001b[43m    \u001b[49m\u001b[43mexplore\u001b[49m\u001b[38;5;241;43m=\u001b[39;49m\u001b[43mexplore\u001b[49m\u001b[43m,\u001b[49m\n\u001b[1;32m   1972\u001b[0m \u001b[43m    \u001b[49m\u001b[43mtimestep\u001b[49m\u001b[38;5;241;43m=\u001b[39;49m\u001b[43mtimestep\u001b[49m\u001b[43m,\u001b[49m\n\u001b[1;32m   1973\u001b[0m \u001b[43m    \u001b[49m\u001b[43mepisodes\u001b[49m\u001b[38;5;241;43m=\u001b[39;49m\u001b[43mepisodes\u001b[49m\u001b[43m,\u001b[49m\n\u001b[1;32m   1974\u001b[0m \u001b[43m\u001b[49m\u001b[43m)\u001b[49m\n\u001b[1;32m   1976\u001b[0m \u001b[38;5;66;03m# Unbatch actions for the environment into a multi-agent dict.\u001b[39;00m\n\u001b[1;32m   1977\u001b[0m single_actions \u001b[38;5;241m=\u001b[39m space_utils\u001b[38;5;241m.\u001b[39munbatch(actions)\n",
      "File \u001b[0;32m~/.pyenv/versions/streamlit-my-app/envs/3.11.4/lib/python3.10/site-packages/ray/rllib/policy/eager_tf_policy.py:142\u001b[0m, in \u001b[0;36m_check_too_many_retraces.<locals>._func\u001b[0;34m(self_, *args, **kwargs)\u001b[0m\n\u001b[1;32m    131\u001b[0m \u001b[38;5;28;01mif\u001b[39;00m (\n\u001b[1;32m    132\u001b[0m     self_\u001b[38;5;241m.\u001b[39mconfig\u001b[38;5;241m.\u001b[39mget(\u001b[38;5;124m\"\u001b[39m\u001b[38;5;124meager_max_retraces\u001b[39m\u001b[38;5;124m\"\u001b[39m) \u001b[38;5;129;01mis\u001b[39;00m \u001b[38;5;129;01mnot\u001b[39;00m \u001b[38;5;28;01mNone\u001b[39;00m\n\u001b[1;32m    133\u001b[0m     \u001b[38;5;129;01mand\u001b[39;00m self_\u001b[38;5;241m.\u001b[39m_re_trace_counter \u001b[38;5;241m>\u001b[39m self_\u001b[38;5;241m.\u001b[39mconfig[\u001b[38;5;124m\"\u001b[39m\u001b[38;5;124meager_max_retraces\u001b[39m\u001b[38;5;124m\"\u001b[39m]\n\u001b[1;32m    134\u001b[0m ):\n\u001b[1;32m    135\u001b[0m     \u001b[38;5;28;01mraise\u001b[39;00m \u001b[38;5;167;01mRuntimeError\u001b[39;00m(\n\u001b[1;32m    136\u001b[0m         \u001b[38;5;124m\"\u001b[39m\u001b[38;5;124mToo many tf-eager re-traces detected! This could lead to\u001b[39m\u001b[38;5;124m\"\u001b[39m\n\u001b[1;32m    137\u001b[0m         \u001b[38;5;124m\"\u001b[39m\u001b[38;5;124m significant slow-downs (even slower than running in \u001b[39m\u001b[38;5;124m\"\u001b[39m\n\u001b[0;32m   (...)\u001b[0m\n\u001b[1;32m    140\u001b[0m         \u001b[38;5;124m\"\u001b[39m\u001b[38;5;124m in your config to None.\u001b[39m\u001b[38;5;124m\"\u001b[39m\n\u001b[1;32m    141\u001b[0m     )\n\u001b[0;32m--> 142\u001b[0m \u001b[38;5;28;01mreturn\u001b[39;00m \u001b[43mobj\u001b[49m\u001b[43m(\u001b[49m\u001b[43mself_\u001b[49m\u001b[43m,\u001b[49m\u001b[43m \u001b[49m\u001b[38;5;241;43m*\u001b[39;49m\u001b[43margs\u001b[49m\u001b[43m,\u001b[49m\u001b[43m \u001b[49m\u001b[38;5;241;43m*\u001b[39;49m\u001b[38;5;241;43m*\u001b[39;49m\u001b[43mkwargs\u001b[49m\u001b[43m)\u001b[49m\n",
      "File \u001b[0;32m~/.pyenv/versions/streamlit-my-app/envs/3.11.4/lib/python3.10/site-packages/ray/rllib/policy/eager_tf_policy.py:218\u001b[0m, in \u001b[0;36m_traced_eager_policy.<locals>.TracedEagerPolicy.compute_actions_from_input_dict\u001b[0;34m(self, input_dict, explore, timestep, episodes, **kwargs)\u001b[0m\n\u001b[1;32m    214\u001b[0m     \u001b[38;5;28mself\u001b[39m\u001b[38;5;241m.\u001b[39m_traced_compute_actions_helper \u001b[38;5;241m=\u001b[39m \u001b[38;5;28;01mTrue\u001b[39;00m\n\u001b[1;32m    216\u001b[0m \u001b[38;5;66;03m# Now that the helper method is traced, call super's\u001b[39;00m\n\u001b[1;32m    217\u001b[0m \u001b[38;5;66;03m# `compute_actions_from_input_dict()` (which will call the traced helper).\u001b[39;00m\n\u001b[0;32m--> 218\u001b[0m \u001b[38;5;28;01mreturn\u001b[39;00m \u001b[38;5;28;43msuper\u001b[39;49m\u001b[43m(\u001b[49m\u001b[43mTracedEagerPolicy\u001b[49m\u001b[43m,\u001b[49m\u001b[43m \u001b[49m\u001b[38;5;28;43mself\u001b[39;49m\u001b[43m)\u001b[49m\u001b[38;5;241;43m.\u001b[39;49m\u001b[43mcompute_actions_from_input_dict\u001b[49m\u001b[43m(\u001b[49m\n\u001b[1;32m    219\u001b[0m \u001b[43m    \u001b[49m\u001b[43minput_dict\u001b[49m\u001b[38;5;241;43m=\u001b[39;49m\u001b[43minput_dict\u001b[49m\u001b[43m,\u001b[49m\n\u001b[1;32m    220\u001b[0m \u001b[43m    \u001b[49m\u001b[43mexplore\u001b[49m\u001b[38;5;241;43m=\u001b[39;49m\u001b[43mexplore\u001b[49m\u001b[43m,\u001b[49m\n\u001b[1;32m    221\u001b[0m \u001b[43m    \u001b[49m\u001b[43mtimestep\u001b[49m\u001b[38;5;241;43m=\u001b[39;49m\u001b[43mtimestep\u001b[49m\u001b[43m,\u001b[49m\n\u001b[1;32m    222\u001b[0m \u001b[43m    \u001b[49m\u001b[43mepisodes\u001b[49m\u001b[38;5;241;43m=\u001b[39;49m\u001b[43mepisodes\u001b[49m\u001b[43m,\u001b[49m\n\u001b[1;32m    223\u001b[0m \u001b[43m    \u001b[49m\u001b[38;5;241;43m*\u001b[39;49m\u001b[38;5;241;43m*\u001b[39;49m\u001b[43mkwargs\u001b[49m\u001b[43m,\u001b[49m\n\u001b[1;32m    224\u001b[0m \u001b[43m\u001b[49m\u001b[43m)\u001b[49m\n",
      "File \u001b[0;32m~/.pyenv/versions/streamlit-my-app/envs/3.11.4/lib/python3.10/site-packages/ray/rllib/policy/eager_tf_policy.py:523\u001b[0m, in \u001b[0;36m_build_eager_tf_policy.<locals>.eager_policy_cls.compute_actions_from_input_dict\u001b[0;34m(self, input_dict, explore, timestep, episodes, **kwargs)\u001b[0m\n\u001b[1;32m    518\u001b[0m \u001b[38;5;66;03m# Call the exploration before_compute_actions hook.\u001b[39;00m\n\u001b[1;32m    519\u001b[0m \u001b[38;5;28mself\u001b[39m\u001b[38;5;241m.\u001b[39mexploration\u001b[38;5;241m.\u001b[39mbefore_compute_actions(\n\u001b[1;32m    520\u001b[0m     timestep\u001b[38;5;241m=\u001b[39mtimestep, explore\u001b[38;5;241m=\u001b[39mexplore, tf_sess\u001b[38;5;241m=\u001b[39m\u001b[38;5;28mself\u001b[39m\u001b[38;5;241m.\u001b[39mget_session()\n\u001b[1;32m    521\u001b[0m )\n\u001b[0;32m--> 523\u001b[0m ret \u001b[38;5;241m=\u001b[39m \u001b[38;5;28;43mself\u001b[39;49m\u001b[38;5;241;43m.\u001b[39;49m\u001b[43m_compute_actions_helper\u001b[49m\u001b[43m(\u001b[49m\n\u001b[1;32m    524\u001b[0m \u001b[43m    \u001b[49m\u001b[43minput_dict\u001b[49m\u001b[43m,\u001b[49m\n\u001b[1;32m    525\u001b[0m \u001b[43m    \u001b[49m\u001b[43mstate_batches\u001b[49m\u001b[43m,\u001b[49m\n\u001b[1;32m    526\u001b[0m \u001b[43m    \u001b[49m\u001b[38;5;66;43;03m# TODO: Passing episodes into a traced method does not work.\u001b[39;49;00m\n\u001b[1;32m    527\u001b[0m \u001b[43m    \u001b[49m\u001b[38;5;28;43;01mNone\u001b[39;49;00m\u001b[43m \u001b[49m\u001b[38;5;28;43;01mif\u001b[39;49;00m\u001b[43m \u001b[49m\u001b[38;5;28;43mself\u001b[39;49m\u001b[38;5;241;43m.\u001b[39;49m\u001b[43mconfig\u001b[49m\u001b[43m[\u001b[49m\u001b[38;5;124;43m\"\u001b[39;49m\u001b[38;5;124;43meager_tracing\u001b[39;49m\u001b[38;5;124;43m\"\u001b[39;49m\u001b[43m]\u001b[49m\u001b[43m \u001b[49m\u001b[38;5;28;43;01melse\u001b[39;49;00m\u001b[43m \u001b[49m\u001b[43mepisodes\u001b[49m\u001b[43m,\u001b[49m\n\u001b[1;32m    528\u001b[0m \u001b[43m    \u001b[49m\u001b[43mexplore\u001b[49m\u001b[43m,\u001b[49m\n\u001b[1;32m    529\u001b[0m \u001b[43m    \u001b[49m\u001b[43mtimestep\u001b[49m\u001b[43m,\u001b[49m\n\u001b[1;32m    530\u001b[0m \u001b[43m\u001b[49m\u001b[43m)\u001b[49m\n\u001b[1;32m    531\u001b[0m \u001b[38;5;66;03m# Update our global timestep by the batch size.\u001b[39;00m\n\u001b[1;32m    532\u001b[0m \u001b[38;5;28mself\u001b[39m\u001b[38;5;241m.\u001b[39mglobal_timestep\u001b[38;5;241m.\u001b[39massign_add(tree\u001b[38;5;241m.\u001b[39mflatten(ret[\u001b[38;5;241m0\u001b[39m])[\u001b[38;5;241m0\u001b[39m]\u001b[38;5;241m.\u001b[39mshape\u001b[38;5;241m.\u001b[39mas_list()[\u001b[38;5;241m0\u001b[39m])\n",
      "File \u001b[0;32m~/.pyenv/versions/streamlit-my-app/envs/3.11.4/lib/python3.10/site-packages/ray/rllib/policy/eager_tf_policy.py:100\u001b[0m, in \u001b[0;36m_convert_eager_inputs.<locals>._func\u001b[0;34m(*args, **kwargs)\u001b[0m\n\u001b[1;32m     94\u001b[0m     \u001b[38;5;66;03m# TODO: (sven) find a way to remove key-specific hacks.\u001b[39;00m\n\u001b[1;32m     95\u001b[0m     eager_kwargs \u001b[38;5;241m=\u001b[39m {\n\u001b[1;32m     96\u001b[0m         k: _convert_to_tf(v, dtype\u001b[38;5;241m=\u001b[39mtf\u001b[38;5;241m.\u001b[39mint64 \u001b[38;5;28;01mif\u001b[39;00m k \u001b[38;5;241m==\u001b[39m \u001b[38;5;124m\"\u001b[39m\u001b[38;5;124mtimestep\u001b[39m\u001b[38;5;124m\"\u001b[39m \u001b[38;5;28;01melse\u001b[39;00m \u001b[38;5;28;01mNone\u001b[39;00m)\n\u001b[1;32m     97\u001b[0m         \u001b[38;5;28;01mfor\u001b[39;00m k, v \u001b[38;5;129;01min\u001b[39;00m kwargs\u001b[38;5;241m.\u001b[39mitems()\n\u001b[1;32m     98\u001b[0m         \u001b[38;5;28;01mif\u001b[39;00m k \u001b[38;5;129;01mnot\u001b[39;00m \u001b[38;5;129;01min\u001b[39;00m {\u001b[38;5;124m\"\u001b[39m\u001b[38;5;124minfo_batch\u001b[39m\u001b[38;5;124m\"\u001b[39m, \u001b[38;5;124m\"\u001b[39m\u001b[38;5;124mepisodes\u001b[39m\u001b[38;5;124m\"\u001b[39m}\n\u001b[1;32m     99\u001b[0m     }\n\u001b[0;32m--> 100\u001b[0m     \u001b[38;5;28;01mreturn\u001b[39;00m \u001b[43mfunc\u001b[49m\u001b[43m(\u001b[49m\u001b[38;5;241;43m*\u001b[39;49m\u001b[43meager_args\u001b[49m\u001b[43m,\u001b[49m\u001b[43m \u001b[49m\u001b[38;5;241;43m*\u001b[39;49m\u001b[38;5;241;43m*\u001b[39;49m\u001b[43meager_kwargs\u001b[49m\u001b[43m)\u001b[49m\n\u001b[1;32m    101\u001b[0m \u001b[38;5;28;01melse\u001b[39;00m:\n\u001b[1;32m    102\u001b[0m     \u001b[38;5;28;01mreturn\u001b[39;00m func(\u001b[38;5;241m*\u001b[39margs, \u001b[38;5;241m*\u001b[39m\u001b[38;5;241m*\u001b[39mkwargs)\n",
      "File \u001b[0;32m~/.pyenv/versions/streamlit-my-app/envs/3.11.4/lib/python3.10/site-packages/tensorflow/python/util/traceback_utils.py:153\u001b[0m, in \u001b[0;36mfilter_traceback.<locals>.error_handler\u001b[0;34m(*args, **kwargs)\u001b[0m\n\u001b[1;32m    151\u001b[0m \u001b[38;5;28;01mexcept\u001b[39;00m \u001b[38;5;167;01mException\u001b[39;00m \u001b[38;5;28;01mas\u001b[39;00m e:\n\u001b[1;32m    152\u001b[0m   filtered_tb \u001b[38;5;241m=\u001b[39m _process_traceback_frames(e\u001b[38;5;241m.\u001b[39m__traceback__)\n\u001b[0;32m--> 153\u001b[0m   \u001b[38;5;28;01mraise\u001b[39;00m e\u001b[38;5;241m.\u001b[39mwith_traceback(filtered_tb) \u001b[38;5;28;01mfrom\u001b[39;00m \u001b[38;5;28;01mNone\u001b[39;00m\n\u001b[1;32m    154\u001b[0m \u001b[38;5;28;01mfinally\u001b[39;00m:\n\u001b[1;32m    155\u001b[0m   \u001b[38;5;28;01mdel\u001b[39;00m filtered_tb\n",
      "File \u001b[0;32m~/.pyenv/versions/streamlit-my-app/envs/3.11.4/lib/python3.10/site-packages/ray/rllib/utils/threading.py:24\u001b[0m, in \u001b[0;36mwith_lock.<locals>.wrapper\u001b[0;34m(self, *a, **k)\u001b[0m\n\u001b[1;32m     22\u001b[0m \u001b[38;5;28;01mtry\u001b[39;00m:\n\u001b[1;32m     23\u001b[0m     \u001b[38;5;28;01mwith\u001b[39;00m \u001b[38;5;28mself\u001b[39m\u001b[38;5;241m.\u001b[39m_lock:\n\u001b[0;32m---> 24\u001b[0m         \u001b[38;5;28;01mreturn\u001b[39;00m func(\u001b[38;5;28mself\u001b[39m, \u001b[38;5;241m*\u001b[39ma, \u001b[38;5;241m*\u001b[39m\u001b[38;5;241m*\u001b[39mk)\n\u001b[1;32m     25\u001b[0m \u001b[38;5;28;01mexcept\u001b[39;00m \u001b[38;5;167;01mAttributeError\u001b[39;00m \u001b[38;5;28;01mas\u001b[39;00m e:\n\u001b[1;32m     26\u001b[0m     \u001b[38;5;28;01mif\u001b[39;00m \u001b[38;5;124m\"\u001b[39m\u001b[38;5;124mhas no attribute \u001b[39m\u001b[38;5;124m'\u001b[39m\u001b[38;5;124m_lock\u001b[39m\u001b[38;5;124m'\u001b[39m\u001b[38;5;124m\"\u001b[39m \u001b[38;5;129;01min\u001b[39;00m e\u001b[38;5;241m.\u001b[39margs[\u001b[38;5;241m0\u001b[39m]:\n",
      "File \u001b[0;32m~/.pyenv/versions/streamlit-my-app/envs/3.11.4/lib/python3.10/site-packages/ray/rllib/policy/eager_tf_policy.py:926\u001b[0m, in \u001b[0;36m_build_eager_tf_policy.<locals>.eager_policy_cls._compute_actions_helper\u001b[0;34m(self, input_dict, state_batches, episodes, explore, timestep)\u001b[0m\n\u001b[1;32m    924\u001b[0m     dist_inputs, state_out, extra_fetches \u001b[38;5;241m=\u001b[39m \u001b[38;5;28mself\u001b[39m\u001b[38;5;241m.\u001b[39mmodel(input_dict)\n\u001b[1;32m    925\u001b[0m \u001b[38;5;28;01melse\u001b[39;00m:\n\u001b[0;32m--> 926\u001b[0m     dist_inputs, state_out \u001b[38;5;241m=\u001b[39m \u001b[38;5;28;43mself\u001b[39;49m\u001b[38;5;241;43m.\u001b[39;49m\u001b[43mmodel\u001b[49m\u001b[43m(\u001b[49m\n\u001b[1;32m    927\u001b[0m \u001b[43m        \u001b[49m\u001b[43minput_dict\u001b[49m\u001b[43m,\u001b[49m\u001b[43m \u001b[49m\u001b[43mstate_batches\u001b[49m\u001b[43m,\u001b[49m\u001b[43m \u001b[49m\u001b[43mseq_lens\u001b[49m\n\u001b[1;32m    928\u001b[0m \u001b[43m    \u001b[49m\u001b[43m)\u001b[49m\n\u001b[1;32m    930\u001b[0m action_dist \u001b[38;5;241m=\u001b[39m \u001b[38;5;28mself\u001b[39m\u001b[38;5;241m.\u001b[39mdist_class(dist_inputs, \u001b[38;5;28mself\u001b[39m\u001b[38;5;241m.\u001b[39mmodel)\n\u001b[1;32m    932\u001b[0m \u001b[38;5;66;03m# Get the exploration action from the forward results.\u001b[39;00m\n",
      "File \u001b[0;32m~/.pyenv/versions/streamlit-my-app/envs/3.11.4/lib/python3.10/site-packages/ray/rllib/models/modelv2.py:251\u001b[0m, in \u001b[0;36mModelV2.__call__\u001b[0;34m(self, input_dict, state, seq_lens)\u001b[0m\n\u001b[1;32m    246\u001b[0m     restored[\u001b[38;5;124m\"\u001b[39m\u001b[38;5;124mobs_flat\u001b[39m\u001b[38;5;124m\"\u001b[39m] \u001b[38;5;241m=\u001b[39m input_dict[\u001b[38;5;124m\"\u001b[39m\u001b[38;5;124mobs\u001b[39m\u001b[38;5;124m\"\u001b[39m]\n\u001b[1;32m    247\u001b[0m \u001b[38;5;66;03m# Input to this Model went through a Preprocessor.\u001b[39;00m\n\u001b[1;32m    248\u001b[0m \u001b[38;5;66;03m# Generate extra keys: \"obs_flat\" (vs \"obs\", which will hold the\u001b[39;00m\n\u001b[1;32m    249\u001b[0m \u001b[38;5;66;03m# original obs).\u001b[39;00m\n\u001b[1;32m    250\u001b[0m \u001b[38;5;28;01melse\u001b[39;00m:\n\u001b[0;32m--> 251\u001b[0m     restored[\u001b[38;5;124m\"\u001b[39m\u001b[38;5;124mobs\u001b[39m\u001b[38;5;124m\"\u001b[39m] \u001b[38;5;241m=\u001b[39m \u001b[43mrestore_original_dimensions\u001b[49m\u001b[43m(\u001b[49m\n\u001b[1;32m    252\u001b[0m \u001b[43m        \u001b[49m\u001b[43minput_dict\u001b[49m\u001b[43m[\u001b[49m\u001b[38;5;124;43m\"\u001b[39;49m\u001b[38;5;124;43mobs\u001b[39;49m\u001b[38;5;124;43m\"\u001b[39;49m\u001b[43m]\u001b[49m\u001b[43m,\u001b[49m\u001b[43m \u001b[49m\u001b[38;5;28;43mself\u001b[39;49m\u001b[38;5;241;43m.\u001b[39;49m\u001b[43mobs_space\u001b[49m\u001b[43m,\u001b[49m\u001b[43m \u001b[49m\u001b[38;5;28;43mself\u001b[39;49m\u001b[38;5;241;43m.\u001b[39;49m\u001b[43mframework\u001b[49m\n\u001b[1;32m    253\u001b[0m \u001b[43m    \u001b[49m\u001b[43m)\u001b[49m\n\u001b[1;32m    254\u001b[0m     \u001b[38;5;28;01mtry\u001b[39;00m:\n\u001b[1;32m    255\u001b[0m         \u001b[38;5;28;01mif\u001b[39;00m \u001b[38;5;28mlen\u001b[39m(input_dict[\u001b[38;5;124m\"\u001b[39m\u001b[38;5;124mobs\u001b[39m\u001b[38;5;124m\"\u001b[39m]\u001b[38;5;241m.\u001b[39mshape) \u001b[38;5;241m>\u001b[39m \u001b[38;5;241m2\u001b[39m:\n",
      "File \u001b[0;32m~/.pyenv/versions/streamlit-my-app/envs/3.11.4/lib/python3.10/site-packages/ray/rllib/models/modelv2.py:417\u001b[0m, in \u001b[0;36mrestore_original_dimensions\u001b[0;34m(obs, obs_space, tensorlib)\u001b[0m\n\u001b[1;32m    415\u001b[0m     tensorlib \u001b[38;5;241m=\u001b[39m np\n\u001b[1;32m    416\u001b[0m original_space \u001b[38;5;241m=\u001b[39m \u001b[38;5;28mgetattr\u001b[39m(obs_space, \u001b[38;5;124m\"\u001b[39m\u001b[38;5;124moriginal_space\u001b[39m\u001b[38;5;124m\"\u001b[39m, obs_space)\n\u001b[0;32m--> 417\u001b[0m \u001b[38;5;28;01mreturn\u001b[39;00m \u001b[43m_unpack_obs\u001b[49m\u001b[43m(\u001b[49m\u001b[43mobs\u001b[49m\u001b[43m,\u001b[49m\u001b[43m \u001b[49m\u001b[43moriginal_space\u001b[49m\u001b[43m,\u001b[49m\u001b[43m \u001b[49m\u001b[43mtensorlib\u001b[49m\u001b[38;5;241;43m=\u001b[39;49m\u001b[43mtensorlib\u001b[49m\u001b[43m)\u001b[49m\n",
      "File \u001b[0;32m~/.pyenv/versions/streamlit-my-app/envs/3.11.4/lib/python3.10/site-packages/ray/rllib/models/modelv2.py:451\u001b[0m, in \u001b[0;36m_unpack_obs\u001b[0;34m(obs, space, tensorlib)\u001b[0m\n\u001b[1;32m    449\u001b[0m         _cache[\u001b[38;5;28mid\u001b[39m(space)] \u001b[38;5;241m=\u001b[39m prep\n\u001b[1;32m    450\u001b[0m \u001b[38;5;28;01mif\u001b[39;00m \u001b[38;5;28mlen\u001b[39m(obs\u001b[38;5;241m.\u001b[39mshape) \u001b[38;5;241m<\u001b[39m \u001b[38;5;241m2\u001b[39m \u001b[38;5;129;01mor\u001b[39;00m obs\u001b[38;5;241m.\u001b[39mshape[\u001b[38;5;241m-\u001b[39m\u001b[38;5;241m1\u001b[39m] \u001b[38;5;241m!=\u001b[39m prep\u001b[38;5;241m.\u001b[39mshape[\u001b[38;5;241m0\u001b[39m]:\n\u001b[0;32m--> 451\u001b[0m     \u001b[38;5;28;01mraise\u001b[39;00m \u001b[38;5;167;01mValueError\u001b[39;00m(\n\u001b[1;32m    452\u001b[0m         \u001b[38;5;124m\"\u001b[39m\u001b[38;5;124mExpected flattened obs shape of [..., \u001b[39m\u001b[38;5;132;01m{}\u001b[39;00m\u001b[38;5;124m], got \u001b[39m\u001b[38;5;132;01m{}\u001b[39;00m\u001b[38;5;124m\"\u001b[39m\u001b[38;5;241m.\u001b[39mformat(\n\u001b[1;32m    453\u001b[0m             prep\u001b[38;5;241m.\u001b[39mshape[\u001b[38;5;241m0\u001b[39m], obs\u001b[38;5;241m.\u001b[39mshape\n\u001b[1;32m    454\u001b[0m         )\n\u001b[1;32m    455\u001b[0m     )\n\u001b[1;32m    456\u001b[0m offset \u001b[38;5;241m=\u001b[39m \u001b[38;5;241m0\u001b[39m\n\u001b[1;32m    457\u001b[0m \u001b[38;5;28;01mif\u001b[39;00m tensorlib \u001b[38;5;241m==\u001b[39m tf:\n",
      "\u001b[0;31mValueError\u001b[0m: Expected flattened obs shape of [..., 35], got (1, 5, 7)"
     ]
    }
   ],
   "source": [
    "\n",
    "# Get the initial observation (should be: [0.0] for the starting position).\n",
    "obs, info = wrapper_env.reset()\n",
    "terminated = truncated = False\n",
    "total_reward = 0.0\n",
    "# Play one episode.\n",
    "while not terminated and not truncated:\n",
    "    # Compute a single action, given the current observation\n",
    "    # from the environment.\n",
    "    action = algo_sim.compute_single_action(obs)\n",
    "    # Apply the computed action in the environment.\n",
    "    obs, reward, terminated, truncated, info = wrapper_env.step(action)\n",
    "    # Sum up rewards for reporting purposes.\n",
    "    total_reward += reward\n",
    "    print(f\"Observation= {obs} ,Action={action}, Reward={reward}, Total Reward={total_reward}\")\n",
    "# Report results.\n",
    "print(f\"Played 1 episode; total-reward={total_reward}\")"
   ]
  },
  {
   "cell_type": "code",
   "execution_count": 23,
   "metadata": {},
   "outputs": [
    {
     "name": "stdout",
     "output_type": "stream",
     "text": [
      "Prediction: [0.6233386]\n"
     ]
    }
   ],
   "source": [
    "import tensorflow as tf\n",
    "import tensorflow_probability as tfp\n",
    "import numpy as np\n",
    "from rllib_bandit.bandit.bandit_tf_model import OnlineLinearRegression\n",
    "# Example feature dimensions and regularization parameters\n",
    "feature_dim = 7\n",
    "alpha = 1.0\n",
    "lambda_ = 0.1\n",
    "\n",
    "# Instantiate the OnlineLinearRegression model\n",
    "model = OnlineLinearRegression(feature_dim=feature_dim, alpha=alpha, lambda_=lambda_)\n",
    "\n",
    "# Simulate some incoming data\n",
    "x = tf.convert_to_tensor(np.random.normal(size=(1, feature_dim)).astype(np.float32))  # Batch size 1\n",
    "y = tf.convert_to_tensor(np.random.normal(size=(1,)).astype(np.float32))  # Single target value\n",
    "\n",
    "# Perform a partial fit with the new data\n",
    "model.partial_fit(x, y)\n",
    "\n",
    "# Predict the output for a new input, also converted to a tensor\n",
    "new_x = tf.convert_to_tensor(np.random.normal(size=(1, feature_dim)).astype(np.float32))\n",
    "prediction = model(new_x, sample_theta=False)  # Using mean parameters for prediction\n",
    "print(f\"Prediction: {prediction.numpy()}\")"
   ]
  },
  {
   "cell_type": "code",
   "execution_count": 26,
   "metadata": {},
   "outputs": [
    {
     "name": "stdout",
     "output_type": "stream",
     "text": [
      "{'item': array([[1.29246571, 2.54275292, 0.68691875, 0.08373766, 0.41089234,\n",
      "        0.36165869, 0.20613969]])}\n"
     ]
    }
   ],
   "source": [
    "input_dict  = wrapper_env.observation(wrapper_env.observation_space.sample())\n",
    "print(input_dict)"
   ]
  },
  {
   "cell_type": "code",
   "execution_count": 85,
   "metadata": {},
   "outputs": [],
   "source": [
    "\n",
    "from ray.rllib.models.modelv2 import ModelV2\n",
    "from ray.rllib.models.tf.tf_modelv2 import TFModelV2\n",
    "from ray.rllib.utils.annotations import override\n",
    "from ray.rllib.utils.framework import try_import_tf, try_import_tfp\n",
    "from ray.rllib.utils.typing import TensorType\n",
    "\n",
    "class ParametricLinearModel(TFModelV2):\n",
    "    def __init__(self, obs_space, action_space, num_outputs, model_config, name):\n",
    "        TFModelV2.__init__(\n",
    "            self, obs_space, action_space, num_outputs, model_config, name\n",
    "        )\n",
    "\n",
    "        alpha = model_config.get(\"alpha\", 1)\n",
    "        lambda_ = model_config.get(\"lambda_\", 0.1)\n",
    "\n",
    "        # RLlib preprocessors will flatten the observation space and unflatten\n",
    "        # it later. Accessing the original space here.\n",
    "        \n",
    "        if not hasattr(obs_space, 'original_space'):\n",
    "            obs_space.original_space = obs_space\n",
    "            original_space = obs_space.original_space\n",
    "            print(\"Original space:\", original_space)\n",
    "        else:\n",
    "            \n",
    "            assert (\n",
    "                isinstance(original_space, gym.spaces.Dict)\n",
    "                and \"item\" in original_space.spaces\n",
    "            ), \"This model only supports gym.spaces.Dict observation spaces.\"\n",
    "        self.feature_dim = original_space[\"item\"].shape[-1]\n",
    "       \n",
    "        self.arm = OnlineLinearRegression(\n",
    "            feature_dim=self.feature_dim, alpha=alpha, lambda_=lambda_\n",
    "        )\n",
    "       \n",
    "        self._cur_value = None\n",
    "        self._cur_ctx = None\n",
    "\n",
    "    def _check_inputs(self, x):\n",
    "        assert (\n",
    "            len(x.shape) == 3\n",
    "        ), f\"ERROR: Inputs ({x}) must have 3 dimensions (B x num-items x features).\"\n",
    "        return x\n",
    "\n",
    "    @override(ModelV2)\n",
    "    def forward(self, input_dict, state, seq_lens):\n",
    "        x = input_dict[\"obs\"][\"item\"]\n",
    "        print(x)\n",
    "        x = self._check_inputs(x)\n",
    "        scores = self.predict(x)\n",
    "        return scores, state\n",
    "\n",
    "    def predict(self, x, sample_theta=False, use_ucb=False):\n",
    "        self._cur_ctx = x\n",
    "        scores = self.arm(x, sample_theta)\n",
    "        \n",
    "        if use_ucb:\n",
    "            scores += 0.3 * self.arm.get_ucbs(x)\n",
    "        self._cur_value = scores\n",
    "        \n",
    "        return scores\n",
    "\n",
    "    def partial_fit(self, x, y, arms):\n",
    "        x = x[\"item\"]\n",
    "        for i, arm in enumerate(arms):\n",
    "            xi = tf.expand_dims(x[i, arm], axis=0)\n",
    "            yi = tf.expand_dims(y[i], axis=0)\n",
    "            self.arm.partial_fit(xi, yi)\n",
    "\n",
    "    @override(ModelV2)\n",
    "    def value_function(self):\n",
    "        assert self._cur_value is not None, \"Must call `forward()` first.\"\n",
    "        return self._cur_value\n",
    "\n",
    "    def current_obs(self):\n",
    "        assert self._cur_ctx is not None, \"Must call `forward()` first.\"\n",
    "        return self._cur_ctx\n",
    "\n",
    "\n",
    "class ParametricLinearModelUCB(ParametricLinearModel):\n",
    "    def forward(self, input_dict, state, seq_lens):\n",
    "        x = input_dict[\"obs\"][\"item\"]\n",
    "        x = self._check_inputs(x)\n",
    "        scores = super().predict(x, sample_theta=False, use_ucb=True)\n",
    "        print('ParametricLinearModelUCB scores:', scores)\n",
    "        return scores, state\n"
   ]
  },
  {
   "cell_type": "code",
   "execution_count": 86,
   "metadata": {},
   "outputs": [
    {
     "name": "stdout",
     "output_type": "stream",
     "text": [
      "Original space: Dict('item': Box(0.0, inf, (1, 7), float64))\n"
     ]
    }
   ],
   "source": [
    "\n",
    "obs_space= ObservationBanditWrapper(env).observation_space\n",
    "action_space = wrapper_env.action_space\n",
    "model_config = {\"alpha\": 1.0, \"lambda_\": 0.1}\n",
    "P_model = ParametricLinearModelUCB(obs_space, action_space, 1, model_config,   name=\"LinearModel\")"
   ]
  },
  {
   "cell_type": "code",
   "execution_count": 90,
   "metadata": {},
   "outputs": [],
   "source": [
    "input_dict['item']  = ObservationBanditWrapper(env).observation(env.observation_space.sample())['item'].reshape(1, 1, 7)"
   ]
  },
  {
   "cell_type": "code",
   "execution_count": 184,
   "metadata": {},
   "outputs": [
    {
     "ename": "TypeError",
     "evalue": "response_model_ctor is a required callable",
     "output_type": "error",
     "traceback": [
      "\u001b[0;31m---------------------------------------------------------------------------\u001b[0m",
      "\u001b[0;31mTypeError\u001b[0m                                 Traceback (most recent call last)",
      "Cell \u001b[0;32mIn[184], line 6\u001b[0m\n\u001b[1;32m      3\u001b[0m \u001b[38;5;28;01mfrom\u001b[39;00m \u001b[38;5;21;01mrecsim\u001b[39;00m\u001b[38;5;21;01m.\u001b[39;00m\u001b[38;5;21;01menvironments\u001b[39;00m \u001b[38;5;28;01mimport\u001b[39;00m interest_exploration\n\u001b[1;32m      5\u001b[0m \u001b[38;5;66;03m# Define a simple user model.\u001b[39;00m\n\u001b[0;32m----> 6\u001b[0m user_model \u001b[38;5;241m=\u001b[39m \u001b[43minterest_exploration\u001b[49m\u001b[38;5;241;43m.\u001b[39;49m\u001b[43mIEUserModel\u001b[49m\u001b[43m(\u001b[49m\n\u001b[1;32m      7\u001b[0m \u001b[43m    \u001b[49m\u001b[43mslate_size\u001b[49m\u001b[38;5;241;43m=\u001b[39;49m\u001b[38;5;241;43m2\u001b[39;49m\u001b[43m,\u001b[49m\n\u001b[1;32m      8\u001b[0m \u001b[43m    \u001b[49m\u001b[43mseed\u001b[49m\u001b[38;5;241;43m=\u001b[39;49m\u001b[38;5;241;43m0\u001b[39;49m\n\u001b[1;32m      9\u001b[0m \u001b[43m)\u001b[49m\n\u001b[1;32m     11\u001b[0m \u001b[38;5;66;03m# Define a document sampler to generate a set of documents from which the recommender can choose.\u001b[39;00m\n\u001b[1;32m     12\u001b[0m document_sampler \u001b[38;5;241m=\u001b[39m interest_exploration\u001b[38;5;241m.\u001b[39mIETopicDocumentSampler(seed\u001b[38;5;241m=\u001b[39m\u001b[38;5;241m0\u001b[39m)\n",
      "File \u001b[0;32m~/.pyenv/versions/streamlit-my-app/envs/3.11.4/lib/python3.10/site-packages/recsim/environments/interest_exploration.py:90\u001b[0m, in \u001b[0;36mIEUserModel.__init__\u001b[0;34m(self, slate_size, no_click_mass, choice_model_ctor, user_state_ctor, response_model_ctor, seed)\u001b[0m\n\u001b[1;32m     82\u001b[0m \u001b[38;5;28;01mdef\u001b[39;00m \u001b[38;5;21m__init__\u001b[39m(\u001b[38;5;28mself\u001b[39m,\n\u001b[1;32m     83\u001b[0m              slate_size,\n\u001b[1;32m     84\u001b[0m              no_click_mass\u001b[38;5;241m=\u001b[39m\u001b[38;5;241m5\u001b[39m,\n\u001b[0;32m   (...)\u001b[0m\n\u001b[1;32m     87\u001b[0m              response_model_ctor\u001b[38;5;241m=\u001b[39m\u001b[38;5;28;01mNone\u001b[39;00m,\n\u001b[1;32m     88\u001b[0m              seed\u001b[38;5;241m=\u001b[39m\u001b[38;5;241m0\u001b[39m):\n\u001b[0;32m---> 90\u001b[0m   \u001b[38;5;28;43msuper\u001b[39;49m\u001b[43m(\u001b[49m\u001b[43mIEUserModel\u001b[49m\u001b[43m,\u001b[49m\u001b[43m \u001b[49m\u001b[38;5;28;43mself\u001b[39;49m\u001b[43m)\u001b[49m\u001b[38;5;241;43m.\u001b[39;49m\u001b[38;5;21;43m__init__\u001b[39;49m\u001b[43m(\u001b[49m\u001b[43mresponse_model_ctor\u001b[49m\u001b[43m,\u001b[49m\u001b[43m \u001b[49m\u001b[43mIEClusterUserSampler\u001b[49m\u001b[43m(\u001b[49m\n\u001b[1;32m     91\u001b[0m \u001b[43m      \u001b[49m\u001b[43muser_ctor\u001b[49m\u001b[38;5;241;43m=\u001b[39;49m\u001b[43muser_state_ctor\u001b[49m\u001b[43m,\u001b[49m\u001b[43m \u001b[49m\u001b[43mseed\u001b[49m\u001b[38;5;241;43m=\u001b[39;49m\u001b[43mseed\u001b[49m\u001b[43m)\u001b[49m\u001b[43m,\u001b[49m\u001b[43m \u001b[49m\u001b[43mslate_size\u001b[49m\u001b[43m)\u001b[49m\n\u001b[1;32m     92\u001b[0m   \u001b[38;5;28mself\u001b[39m\u001b[38;5;241m.\u001b[39m_user_state_ctor \u001b[38;5;241m=\u001b[39m user_state_ctor\n\u001b[1;32m     93\u001b[0m   \u001b[38;5;28;01mif\u001b[39;00m choice_model_ctor \u001b[38;5;129;01mis\u001b[39;00m \u001b[38;5;28;01mNone\u001b[39;00m:\n",
      "File \u001b[0;32m~/.pyenv/versions/streamlit-my-app/envs/3.11.4/lib/python3.10/site-packages/recsim/user.py:109\u001b[0m, in \u001b[0;36mAbstractUserModel.__init__\u001b[0;34m(self, response_model_ctor, user_sampler, slate_size)\u001b[0m\n\u001b[1;32m     98\u001b[0m \u001b[38;5;250m\u001b[39m\u001b[38;5;124;03m\"\"\"Initializes a new user model.\u001b[39;00m\n\u001b[1;32m     99\u001b[0m \n\u001b[1;32m    100\u001b[0m \u001b[38;5;124;03mArgs:\u001b[39;00m\n\u001b[0;32m   (...)\u001b[0m\n\u001b[1;32m    106\u001b[0m \u001b[38;5;124;03m    any interaction.\u001b[39;00m\n\u001b[1;32m    107\u001b[0m \u001b[38;5;124;03m\"\"\"\u001b[39;00m\n\u001b[1;32m    108\u001b[0m \u001b[38;5;28;01mif\u001b[39;00m \u001b[38;5;129;01mnot\u001b[39;00m response_model_ctor:\n\u001b[0;32m--> 109\u001b[0m   \u001b[38;5;28;01mraise\u001b[39;00m \u001b[38;5;167;01mTypeError\u001b[39;00m(\u001b[38;5;124m'\u001b[39m\u001b[38;5;124mresponse_model_ctor is a required callable\u001b[39m\u001b[38;5;124m'\u001b[39m)\n\u001b[1;32m    111\u001b[0m \u001b[38;5;28mself\u001b[39m\u001b[38;5;241m.\u001b[39m_user_sampler \u001b[38;5;241m=\u001b[39m user_sampler\n\u001b[1;32m    112\u001b[0m \u001b[38;5;28mself\u001b[39m\u001b[38;5;241m.\u001b[39m_user_state \u001b[38;5;241m=\u001b[39m \u001b[38;5;28mself\u001b[39m\u001b[38;5;241m.\u001b[39m_user_sampler\u001b[38;5;241m.\u001b[39msample_user()\n",
      "\u001b[0;31mTypeError\u001b[0m: response_model_ctor is a required callable"
     ]
    }
   ],
   "source": [
    "from recsim.simulator import environment\n",
    "from recsim.simulator import recsim_gym\n",
    "from recsim.environments import interest_exploration\n",
    "\n",
    "# Define a simple user model.\n",
    "user_model = interest_exploration.IEUserModel(\n",
    "    slate_size=2,\n",
    "    seed=0\n",
    ")\n",
    "\n",
    "# Define a document sampler to generate a set of documents from which the recommender can choose.\n",
    "document_sampler = interest_exploration.IETopicDocumentSampler(seed=0)\n",
    "\n",
    "# Number of documents to present to the agent at each step.\n",
    "num_candidates = 10\n",
    "\n",
    "# Create the RecSim environment.\n",
    "recsim_env = environment.SingleUserEnvironment(\n",
    "    user_model,\n",
    "    document_sampler,\n",
    "    num_candidates,\n",
    "    slate_size=2,  # Number of recommendations to make at each step.\n",
    "    resample_documents=True\n",
    ")\n",
    "\n",
    "# Wrap the RecSim environment in a Gym environment.\n",
    "gym_env = recsim_gym.RecSimGymEnv(recsim_env)\n",
    "\n",
    "print(\"Observation Space:\", gym_env.observation_space)\n",
    "print(\"Action Space:\", gym_env.action_space)\n"
   ]
  },
  {
   "cell_type": "code",
   "execution_count": null,
   "metadata": {},
   "outputs": [],
   "source": []
  }
 ],
 "metadata": {
  "kernelspec": {
   "display_name": "3.11.4",
   "language": "python",
   "name": "python3"
  },
  "language_info": {
   "codemirror_mode": {
    "name": "ipython",
    "version": 3
   },
   "file_extension": ".py",
   "mimetype": "text/x-python",
   "name": "python",
   "nbconvert_exporter": "python",
   "pygments_lexer": "ipython3",
   "version": "3.10.13"
  }
 },
 "nbformat": 4,
 "nbformat_minor": 2
}
